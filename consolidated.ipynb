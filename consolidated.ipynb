{
 "cells": [
  {
   "cell_type": "code",
   "execution_count": 53,
   "metadata": {},
   "outputs": [],
   "source": [
    "import numpy as np\n",
    "import pandas as pd\n",
    "from sklearn.preprocessing import LabelEncoder\n",
    "from sklearn.ensemble import RandomForestRegressor\n",
    "from sklearn.metrics import mean_absolute_error\n",
    "import matplotlib.pyplot as plt\n",
    "import seaborn as sns\n",
    "import lightgbm as lgb"
   ]
  },
  {
   "cell_type": "code",
   "execution_count": 3,
   "metadata": {},
   "outputs": [],
   "source": [
    "train = pd.read_csv('champs-scalar-coupling/train.csv')\n",
    "structures = pd.read_csv('champs-scalar-coupling/structures.csv')\n",
    "test = pd.read_csv('champs-scalar-coupling/test.csv')"
   ]
  },
  {
   "cell_type": "markdown",
   "metadata": {},
   "source": [
    "# Data Overview"
   ]
  },
  {
   "cell_type": "markdown",
   "metadata": {},
   "source": [
    "With the help of https://www.kaggle.com/artgor/molecular-properties-eda-and-models"
   ]
  },
  {
   "cell_type": "code",
   "execution_count": null,
   "metadata": {},
   "outputs": [],
   "source": [
    "print(f'There are {train.shape[0]} rows in train data.')\n",
    "print(f'There are {test.shape[0]} rows in test data.')\n",
    "\n",
    "print(f\"There are {train['molecule_name'].nunique()} distinct molecules in train data.\")\n",
    "print(f\"There are {test['molecule_name'].nunique()} distinct molecules in test data.\")\n",
    "print(f\"There are {structures['atom'].nunique()} unique atoms.\")\n",
    "print(f\"There are {train['type'].nunique()} unique types.\")"
   ]
  },
  {
   "cell_type": "code",
   "execution_count": null,
   "metadata": {},
   "outputs": [],
   "source": [
    "train.describe()"
   ]
  },
  {
   "cell_type": "code",
   "execution_count": null,
   "metadata": {},
   "outputs": [],
   "source": []
  },
  {
   "cell_type": "code",
   "execution_count": null,
   "metadata": {},
   "outputs": [],
   "source": []
  },
  {
   "cell_type": "code",
   "execution_count": null,
   "metadata": {},
   "outputs": [],
   "source": [
    "# coupling types (train)\n",
    "\n",
    "c_labels = pd.unique(train['type'])\n",
    "c_counts = []\n",
    "for c_type in pd.unique(train['type']):\n",
    "    count = (train.loc[train['type'] == c_type]).count(axis = 0)['id']\n",
    "    c_counts.append(count)\n",
    "    print(f\"there are {count} {c_type}'s\")\n",
    "plt.bar(c_labels, c_counts)"
   ]
  },
  {
   "cell_type": "code",
   "execution_count": null,
   "metadata": {},
   "outputs": [],
   "source": [
    "# coupling types (test)\n",
    "\n",
    "c_labels = pd.unique(test['type'])\n",
    "c_counts = []\n",
    "for c_type in pd.unique(test['type']):\n",
    "    count = (test.loc[test['type'] == c_type]).count(axis = 0)['id']\n",
    "    c_counts.append(count)\n",
    "    print(f\"there are {count} {c_type}'s\")\n",
    "plt.bar(c_labels, c_counts)"
   ]
  },
  {
   "cell_type": "code",
   "execution_count": null,
   "metadata": {},
   "outputs": [],
   "source": [
    "fig, ax = plt.subplots(figsize = (18, 6))\n",
    "plt.subplot(1, 2, 1);\n",
    "plt.hist(train['scalar_coupling_constant'], bins=20);\n",
    "plt.title('Basic scalar_coupling_constant histogram');\n",
    "plt.subplot(1, 2, 2);\n",
    "sns.violinplot(x='type', y='scalar_coupling_constant', data=train);\n",
    "plt.title('Violinplot of scalar_coupling_constant by type');"
   ]
  },
  {
   "cell_type": "markdown",
   "metadata": {},
   "source": [
    "Notes: \n",
    "* Scalar coupling constant has a bimodal histogram\n",
    "* Different coupling types have very different values of scalar coupling constant "
   ]
  },
  {
   "cell_type": "markdown",
   "metadata": {},
   "source": [
    "# Visualization"
   ]
  },
  {
   "cell_type": "code",
   "execution_count": 4,
   "metadata": {},
   "outputs": [],
   "source": [
    "def map_atom_info(df, atom_idx):\n",
    "    df = pd.merge(df, structures, how = 'left',\n",
    "                  left_on  = ['molecule_name', f'atom_index_{atom_idx}'],\n",
    "                  right_on = ['molecule_name',  'atom_index'])\n",
    "    \n",
    "    df = df.drop('atom_index', axis=1)\n",
    "    df = df.rename(columns={'atom': f'atom_{atom_idx}',\n",
    "                            'x': f'x_{atom_idx}',\n",
    "                            'y': f'y_{atom_idx}',\n",
    "                            'z': f'z_{atom_idx}'})\n",
    "    return df"
   ]
  },
  {
   "cell_type": "code",
   "execution_count": 5,
   "metadata": {},
   "outputs": [],
   "source": [
    "# map structure (train)\n",
    "\n",
    "df_train = map_atom_info(train, 0)\n",
    "df_train = map_atom_info(df_train, 1)\n",
    "\n",
    "# map structure (test) \n",
    "\n",
    "df_test = map_atom_info(test, 0)\n",
    "df_test = map_atom_info(df_test, 1)"
   ]
  },
  {
   "cell_type": "code",
   "execution_count": 6,
   "metadata": {},
   "outputs": [],
   "source": [
    "# create distance feature (train)\n",
    "\n",
    "struct_0 = df_train[['x_0', 'y_0', 'z_0']].values\n",
    "struct_1 = df_train[['x_1', 'y_1', 'z_1']].values\n",
    "\n",
    "x_d = np.absolute(struct_0[:,0] - struct_1[:,0])\n",
    "df_train['dist_x'] = x_d\n",
    "\n",
    "y_d = np.absolute(struct_0[:,1] - struct_1[:,1])\n",
    "df_train['dist_y'] = y_d\n",
    "\n",
    "z_d = np.absolute(struct_0[:,2] - struct_1[:,2])\n",
    "df_train['dist_z'] = z_d\n",
    "\n",
    "distance = np.linalg.norm(struct_0 - struct_1, axis=1)\n",
    "df_train['dist'] = distance\n",
    "\n",
    "# create distance feature (test)\n",
    "\n",
    "struct_0 = df_test[['x_0', 'y_0', 'z_0']].values\n",
    "struct_1 = df_test[['x_1', 'y_1', 'z_1']].values\n",
    "\n",
    "x_d = np.absolute(struct_0[:,0] - struct_1[:,0])\n",
    "df_test['dist_x'] = x_d\n",
    "\n",
    "y_d = np.absolute(struct_0[:,1] - struct_1[:,1])\n",
    "df_test['dist_y'] = y_d\n",
    "\n",
    "z_d = np.absolute(struct_0[:,1] - struct_1[:,1])\n",
    "df_test['dist_z'] = z_d\n",
    "\n",
    "distance = np.linalg.norm(struct_0 - struct_1, axis=1)\n",
    "df_test['dist'] = distance"
   ]
  },
  {
   "cell_type": "code",
   "execution_count": 8,
   "metadata": {},
   "outputs": [
    {
     "data": {
      "text/plain": [
       "[<matplotlib.lines.Line2D at 0x10f1c4978>]"
      ]
     },
     "execution_count": 8,
     "metadata": {},
     "output_type": "execute_result"
    },
    {
     "data": {
      "image/png": "[encoded data removed]",
      "text/plain": [
       "<Figure size 720x720 with 1 Axes>"
      ]
     },
     "metadata": {
      "needs_background": "light"
     },
     "output_type": "display_data"
    }
   ],
   "source": [
    "# 1/dist vs scalar_coupling_constant\n",
    "x = np.array(df_train['dist']).reshape(-1, 1)\n",
    "y = np.array(df_train['scalar_coupling_constant']).reshape(-1, 1)\n",
    "\n",
    "plt.figure(figsize = (10,10))\n",
    "plt.plot(1/x[:1000],y[:1000],'o')"
   ]
  },
  {
   "cell_type": "code",
   "execution_count": 10,
   "metadata": {},
   "outputs": [
    {
     "data": {
      "image/png": "[encoded data removed]",
      "text/plain": [
       "<Figure size 1440x720 with 8 Axes>"
      ]
     },
     "metadata": {
      "needs_background": "light"
     },
     "output_type": "display_data"
    }
   ],
   "source": [
    "# 1/dist vs scalar_coupling_constant (for each coupling type)\n",
    "fig, axs = plt.subplots(2, 4, figsize=(20,10))\n",
    "row = col = 0\n",
    "\n",
    "for c_type in pd.unique(df_train['type']):\n",
    "    df = df_train.loc[df_train['type'] == c_type]\n",
    "    x = np.array(df['dist']).reshape(-1, 1)\n",
    "    y = np.array(df['scalar_coupling_constant']).reshape(-1, 1)\n",
    "    \n",
    "    axs[row, col].plot(1/x, y, 'o')\n",
    "    axs[row, col].set_title(c_type)\n",
    "    for ax in axs.flat:\n",
    "        ax.set(xlabel='dist', ylabel='coupling')\n",
    "    col += 1\n",
    "    if col > 3:\n",
    "        col = 0\n",
    "        row = 1"
   ]
  },
  {
   "cell_type": "code",
   "execution_count": 13,
   "metadata": {},
   "outputs": [
    {
     "data": {
      "text/plain": [
       "array(['H', 'C', 'N'], dtype=object)"
      ]
     },
     "execution_count": 13,
     "metadata": {},
     "output_type": "execute_result"
    }
   ],
   "source": [
    "#find atoms (train)\n",
    "pd.unique(pd.concat((df_train['atom_0'], df_train['atom_1'])))"
   ]
  },
  {
   "cell_type": "code",
   "execution_count": 11,
   "metadata": {},
   "outputs": [
    {
     "data": {
      "text/plain": [
       "array(['H', 'C', 'N'], dtype=object)"
      ]
     },
     "execution_count": 11,
     "metadata": {},
     "output_type": "execute_result"
    }
   ],
   "source": [
    "#find atoms (test)\n",
    "pd.unique(pd.concat((df_test['atom_0'], df_test['atom_1'])))"
   ]
  },
  {
   "cell_type": "code",
   "execution_count": 14,
   "metadata": {},
   "outputs": [],
   "source": [
    "def atomic_number(x):\n",
    "    if x == 'H':\n",
    "        return 1\n",
    "    elif x == 'C':\n",
    "        return 6\n",
    "    elif x == 'N':\n",
    "        return 7\n",
    "    else:\n",
    "        return x"
   ]
  },
  {
   "cell_type": "code",
   "execution_count": 15,
   "metadata": {},
   "outputs": [],
   "source": [
    "# map atomic numbers\n",
    "\n",
    "df_train['atomic_num_0'] = df_train['atom_0'].apply(lambda x: 1)\n",
    "df_train['atomic_num_1'] = df_train['atom_1'].apply(lambda x: atomic_number(x))\n",
    "df_test['atomic_num_0'] = df_test['atom_0'].apply(lambda x: 1)\n",
    "df_test['atomic_num_1'] = df_test['atom_1'].apply(lambda x: atomic_number(x))\n",
    "\n",
    "# create Z1_Z2 feature (train)\n",
    "\n",
    "atomic_num_0 = df_train['atomic_num_0']\n",
    "atomic_num_1 = df_train['atomic_num_1']\n",
    "Z1_Z2 = atomic_num_0*atomic_num_1\n",
    "df_train['Z1_Z2'] = Z1_Z2\n",
    "\n",
    "# create Z1_Z2 feature (test)\n",
    " \n",
    "atomic_num_0 = df_test['atomic_num_0']\n",
    "atomic_num_1 = df_test['atomic_num_1']\n",
    "Z1_Z2 = atomic_num_0*atomic_num_1\n",
    "df_test['Z1_Z2'] = Z1_Z2\n",
    "\n",
    "# create Coulomb Matrix feature\n",
    "\n",
    "C = df_train['Z1_Z2']/df_train['dist']\n",
    "df_train['C'] = C\n",
    "\n",
    "C = df_test['Z1_Z2']/df_test['dist']\n",
    "df_test['C'] = C"
   ]
  },
  {
   "cell_type": "code",
   "execution_count": 19,
   "metadata": {},
   "outputs": [
    {
     "data": {
      "text/plain": [
       "[<matplotlib.lines.Line2D at 0x125a29940>]"
      ]
     },
     "execution_count": 19,
     "metadata": {},
     "output_type": "execute_result"
    },
    {
     "data": {
      "image/png": "[encoded data removed]",
      "text/plain": [
       "<Figure size 1440x720 with 2 Axes>"
      ]
     },
     "metadata": {
      "needs_background": "light"
     },
     "output_type": "display_data"
    }
   ],
   "source": [
    "# C vs scalar_coupling_constant\n",
    "fig, (ax1, ax2) = plt.subplots(1, 2, figsize=(20,10))\n",
    "\n",
    "x = np.array(df_train['C']).reshape(-1, 1)\n",
    "y = np.array(df_train['scalar_coupling_constant']).reshape(-1, 1)\n",
    "ax1.plot(x[:1000],y[:1000],'o')\n",
    "\n",
    "x = np.array(df_train['dist']).reshape(-1, 1)\n",
    "ax2.plot(1/x[:1000],y[:1000],'o')"
   ]
  },
  {
   "cell_type": "code",
   "execution_count": 32,
   "metadata": {},
   "outputs": [
    {
     "data": {
      "image/png": "[encoded data removed]",
      "text/plain": [
       "<Figure size 1440x720 with 8 Axes>"
      ]
     },
     "metadata": {
      "needs_background": "light"
     },
     "output_type": "display_data"
    }
   ],
   "source": [
    "fig, axs = plt.subplots(2, 4, figsize=(20,10))\n",
    "row = col = 0\n",
    "\n",
    "for c_type in pd.unique(df_train['type']):\n",
    "    df = df_train.loc[df_train['type'] == c_type]\n",
    "    \n",
    "    x = np.array(df['C']).reshape(-1, 1)\n",
    "    y = np.array(df['scalar_coupling_constant']).reshape(-1, 1)\n",
    "    axs[row, col].plot(x, y, 'o')\n",
    "    \n",
    "    x = np.array(df['dist']).reshape(-1, 1)\n",
    "    axs[row, col].plot(1/x, y, 'o')\n",
    "    \n",
    "    axs[row, col].set_title(c_type)\n",
    "    for ax in axs.flat:\n",
    "        ax.set(xlabel='C, dist', ylabel='coupling')\n",
    "        \n",
    "    col += 1\n",
    "    if col > 3:\n",
    "        col = 0\n",
    "        row = 1"
   ]
  },
  {
   "cell_type": "markdown",
   "metadata": {},
   "source": [
    "# Feature Engineering"
   ]
  },
  {
   "cell_type": "code",
   "execution_count": 25,
   "metadata": {},
   "outputs": [],
   "source": [
    "def reduce_mem_usage(df, verbose=True):\n",
    "    numerics = ['int16', 'int32', 'int64', 'float16', 'float32', 'float64']\n",
    "    start_mem = df.memory_usage().sum() / 1024**2    \n",
    "    for col in df.columns:\n",
    "        col_type = df[col].dtypes\n",
    "        if col_type in numerics:\n",
    "            c_min = df[col].min()\n",
    "            c_max = df[col].max()\n",
    "            if str(col_type)[:3] == 'int':\n",
    "                if c_min > np.iinfo(np.int8).min and c_max < np.iinfo(np.int8).max:\n",
    "                    df[col] = df[col].astype(np.int8)\n",
    "                elif c_min > np.iinfo(np.int16).min and c_max < np.iinfo(np.int16).max:\n",
    "                    df[col] = df[col].astype(np.int16)\n",
    "                elif c_min > np.iinfo(np.int32).min and c_max < np.iinfo(np.int32).max:\n",
    "                    df[col] = df[col].astype(np.int32)\n",
    "                elif c_min > np.iinfo(np.int64).min and c_max < np.iinfo(np.int64).max:\n",
    "                    df[col] = df[col].astype(np.int64)  \n",
    "            else:\n",
    "                if c_min > np.finfo(np.float16).min and c_max < np.finfo(np.float16).max:\n",
    "                    df[col] = df[col].astype(np.float16)\n",
    "                elif c_min > np.finfo(np.float32).min and c_max < np.finfo(np.float32).max:\n",
    "                    df[col] = df[col].astype(np.float32)\n",
    "                else:\n",
    "                    df[col] = df[col].astype(np.float64)    \n",
    "    end_mem = df.memory_usage().sum() / 1024**2\n",
    "    if verbose: \n",
    "        print('Mem. usage decreased to {:5.2f} Mb ({:.1f}% reduction)'.format(end_mem, 100 * (start_mem - end_mem) / start_mem))\n",
    "    \n",
    "    return df"
   ]
  },
  {
   "cell_type": "code",
   "execution_count": 26,
   "metadata": {},
   "outputs": [],
   "source": [
    "#feature engineering (using https://www.kaggle.com/zaharch/lightgbm-full-pipeline-model-qm9)\n",
    "def feature_engineering(df):\n",
    "    print(\"Starting Feature Engineering...\")\n",
    "    df['type_0'] = df['type'].apply(lambda x: x[0])\n",
    "    df['type_1'] = df['type'].apply(lambda x: x[1:])\n",
    "    df['molecule_couples'] = df.groupby('molecule_name')['id'].transform('count')\n",
    "    df['molecule_dist_mean'] = df.groupby('molecule_name')['dist'].transform('mean')\n",
    "    df['molecule_dist_min'] = df.groupby('molecule_name')['dist'].transform('min')\n",
    "    df['molecule_dist_max'] = df.groupby('molecule_name')['dist'].transform('max')\n",
    "    df['atom_0_couples_count'] = df.groupby(['molecule_name', 'atom_index_0'])['id'].transform('count')\n",
    "    df['atom_1_couples_count'] = df.groupby(['molecule_name', 'atom_index_1'])['id'].transform('count')\n",
    "    df[f'molecule_atom_index_0_x_1_std'] = df.groupby(['molecule_name', 'atom_index_0'])['x_1'].transform('std')\n",
    "    df[f'molecule_atom_index_0_y_1_mean'] = df.groupby(['molecule_name', 'atom_index_0'])['y_1'].transform('mean')\n",
    "    df[f'molecule_atom_index_0_y_1_mean_diff'] = df[f'molecule_atom_index_0_y_1_mean'] - df['y_1']\n",
    "    df[f'molecule_atom_index_0_y_1_mean_div'] = df[f'molecule_atom_index_0_y_1_mean'] / df['y_1']\n",
    "    df[f'molecule_atom_index_0_y_1_max'] = df.groupby(['molecule_name', 'atom_index_0'])['y_1'].transform('max')\n",
    "    df[f'molecule_atom_index_0_y_1_max_diff'] = df[f'molecule_atom_index_0_y_1_max'] - df['y_1']\n",
    "    df[f'molecule_atom_index_0_y_1_std'] = df.groupby(['molecule_name', 'atom_index_0'])['y_1'].transform('std')\n",
    "    df[f'molecule_atom_index_0_z_1_std'] = df.groupby(['molecule_name', 'atom_index_0'])['z_1'].transform('std')\n",
    "    df[f'molecule_atom_index_0_dist_mean'] = df.groupby(['molecule_name', 'atom_index_0'])['dist'].transform('mean')\n",
    "    df[f'molecule_atom_index_0_dist_mean_diff'] = df[f'molecule_atom_index_0_dist_mean'] - df['dist']\n",
    "    df[f'molecule_atom_index_0_dist_mean_div'] = df[f'molecule_atom_index_0_dist_mean'] / df['dist']\n",
    "    df[f'molecule_atom_index_0_dist_max'] = df.groupby(['molecule_name', 'atom_index_0'])['dist'].transform('max')\n",
    "    df[f'molecule_atom_index_0_dist_max_diff'] = df[f'molecule_atom_index_0_dist_max'] - df['dist']\n",
    "    df[f'molecule_atom_index_0_dist_max_div'] = df[f'molecule_atom_index_0_dist_max'] / df['dist']\n",
    "    df[f'molecule_atom_index_0_dist_min'] = df.groupby(['molecule_name', 'atom_index_0'])['dist'].transform('min')\n",
    "    df[f'molecule_atom_index_0_dist_min_diff'] = df[f'molecule_atom_index_0_dist_min'] - df['dist']\n",
    "    df[f'molecule_atom_index_0_dist_min_div'] = df[f'molecule_atom_index_0_dist_min'] / df['dist']\n",
    "    df[f'molecule_atom_index_0_dist_std'] = df.groupby(['molecule_name', 'atom_index_0'])['dist'].transform('std')\n",
    "    df[f'molecule_atom_index_0_dist_std_diff'] = df[f'molecule_atom_index_0_dist_std'] - df['dist']\n",
    "    df[f'molecule_atom_index_0_dist_std_div'] = df[f'molecule_atom_index_0_dist_std'] / df['dist']\n",
    "    df[f'molecule_atom_index_1_dist_mean'] = df.groupby(['molecule_name', 'atom_index_1'])['dist'].transform('mean')\n",
    "    df[f'molecule_atom_index_1_dist_mean_diff'] = df[f'molecule_atom_index_1_dist_mean'] - df['dist']\n",
    "    df[f'molecule_atom_index_1_dist_mean_div'] = df[f'molecule_atom_index_1_dist_mean'] / df['dist']\n",
    "    df[f'molecule_atom_index_1_dist_max'] = df.groupby(['molecule_name', 'atom_index_1'])['dist'].transform('max')\n",
    "    df[f'molecule_atom_index_1_dist_max_diff'] = df[f'molecule_atom_index_1_dist_max'] - df['dist']\n",
    "    df[f'molecule_atom_index_1_dist_max_div'] = df[f'molecule_atom_index_1_dist_max'] / df['dist']\n",
    "    df[f'molecule_atom_index_1_dist_min'] = df.groupby(['molecule_name', 'atom_index_1'])['dist'].transform('min')\n",
    "    df[f'molecule_atom_index_1_dist_min_diff'] = df[f'molecule_atom_index_1_dist_min'] - df['dist']\n",
    "    df[f'molecule_atom_index_1_dist_min_div'] = df[f'molecule_atom_index_1_dist_min'] / df['dist']\n",
    "    df[f'molecule_atom_index_1_dist_std'] = df.groupby(['molecule_name', 'atom_index_1'])['dist'].transform('std')\n",
    "    df[f'molecule_atom_index_1_dist_std_diff'] = df[f'molecule_atom_index_1_dist_std'] - df['dist']\n",
    "    df[f'molecule_atom_index_1_dist_std_div'] = df[f'molecule_atom_index_1_dist_std'] / df['dist']\n",
    "    df[f'molecule_atom_1_dist_mean'] = df.groupby(['molecule_name', 'atom_1'])['dist'].transform('mean')\n",
    "    df[f'molecule_atom_1_dist_min'] = df.groupby(['molecule_name', 'atom_1'])['dist'].transform('min')\n",
    "    df[f'molecule_atom_1_dist_min_diff'] = df[f'molecule_atom_1_dist_min'] - df['dist']\n",
    "    df[f'molecule_atom_1_dist_min_div'] = df[f'molecule_atom_1_dist_min'] / df['dist']\n",
    "    df[f'molecule_atom_1_dist_std'] = df.groupby(['molecule_name', 'atom_1'])['dist'].transform('std')\n",
    "    df[f'molecule_atom_1_dist_std_diff'] = df[f'molecule_atom_1_dist_std'] - df['dist']\n",
    "    df['dist_to_type_mean'] = df['dist'] / df.groupby('type')['dist'].transform('mean')\n",
    "    df['dist_to_type_0_mean'] = df['dist'] / df.groupby('type_0')['dist'].transform('mean')\n",
    "    df['dist_to_type_1_mean'] = df['dist'] / df.groupby('type_1')['dist'].transform('mean')\n",
    "    df[f'molecule_type_0_dist_std'] = df.groupby(['molecule_name', 'type_0'])['dist'].transform('std')\n",
    "    df[f'molecule_type_0_dist_std_diff'] = df[f'molecule_type_0_dist_std'] - df['dist']\n",
    "    df[f'molecule_type_1_dist_std'] = df.groupby(['molecule_name', 'type_1'])['dist'].transform('std')\n",
    "    df[f'molecule_type_1_dist_std_diff'] = df[f'molecule_type_1_dist_std'] - df['dist']\n",
    "    df[f'molecule_type_dist_mean'] = df.groupby(['molecule_name', 'type'])['dist'].transform('mean')\n",
    "    df[f'molecule_type_dist_mean_diff'] = df[f'molecule_type_dist_mean'] - df['dist']\n",
    "    df[f'molecule_type_dist_mean_div'] = df[f'molecule_type_dist_mean'] / df['dist']\n",
    "    df[f'molecule_type_dist_max'] = df.groupby(['molecule_name', 'type'])['dist'].transform('max')\n",
    "    df[f'molecule_type_dist_min'] = df.groupby(['molecule_name', 'type'])['dist'].transform('min')\n",
    "    df[f'molecule_type_dist_std'] = df.groupby(['molecule_name', 'type'])['dist'].transform('std')\n",
    "    df[f'molecule_type_dist_std_diff'] = df[f'molecule_type_dist_std'] - df['dist']\n",
    "    \n",
    "    df = reduce_mem_usage(df)\n",
    "    \n",
    "    return df"
   ]
  },
  {
   "cell_type": "code",
   "execution_count": 27,
   "metadata": {},
   "outputs": [
    {
     "name": "stdout",
     "output_type": "stream",
     "text": [
      "Starting Feature Engineering...\n",
      "Mem. usage decreased to 1035.07 Mb (69.3% reduction)\n",
      "Starting Feature Engineering...\n",
      "Mem. usage decreased to 485.06 Mb (69.1% reduction)\n"
     ]
    }
   ],
   "source": [
    "df_train = feature_engineering(df_train)\n",
    "df_test = feature_engineering(df_test)"
   ]
  },
  {
   "cell_type": "code",
   "execution_count": 28,
   "metadata": {},
   "outputs": [],
   "source": [
    "#Create C_to_type_mean\n",
    "def add_C_features(df):\n",
    "    df['molecule_C_mean'] = df.groupby('molecule_name')['C'].transform('mean')\n",
    "    df['molecule_C_min'] = df.groupby('molecule_name')['C'].transform('min')\n",
    "    df['molecule_C_max'] = df.groupby('molecule_name')['C'].transform('max')\n",
    "    df[f'molecule_atom_index_0_C_mean'] = df.groupby(['molecule_name', 'atom_index_0'])['C'].transform('mean')\n",
    "    df[f'molecule_atom_index_0_C_mean_diff'] = df[f'molecule_atom_index_0_C_mean'] - df['C']\n",
    "    df[f'molecule_atom_index_0_C_mean_div'] = df[f'molecule_atom_index_0_C_mean'] / df['C']\n",
    "    df[f'molecule_atom_index_0_C_max'] = df.groupby(['molecule_name', 'atom_index_0'])['C'].transform('max')\n",
    "    df[f'molecule_atom_index_0_C_max_diff'] = df[f'molecule_atom_index_0_C_max'] - df['C']\n",
    "    df[f'molecule_atom_index_0_C_max_div'] = df[f'molecule_atom_index_0_C_max'] / df['C']\n",
    "    df[f'molecule_atom_index_0_C_min'] = df.groupby(['molecule_name', 'atom_index_0'])['C'].transform('min')\n",
    "    df[f'molecule_atom_index_0_C_min_diff'] = df[f'molecule_atom_index_0_C_min'] - df['C']\n",
    "    df[f'molecule_atom_index_0_C_min_div'] = df[f'molecule_atom_index_0_C_min'] / df['C']\n",
    "    df[f'molecule_atom_index_0_C_std'] = df.groupby(['molecule_name', 'atom_index_0'])['C'].transform('std')\n",
    "    df[f'molecule_atom_index_0_C_std_diff'] = df[f'molecule_atom_index_0_C_std'] - df['C']\n",
    "    df[f'molecule_atom_index_0_C_std_div'] = df[f'molecule_atom_index_0_C_std'] / df['C']\n",
    "    df[f'molecule_atom_index_1_C_mean'] = df.groupby(['molecule_name', 'atom_index_1'])['C'].transform('mean')\n",
    "    df[f'molecule_atom_index_1_C_mean_diff'] = df[f'molecule_atom_index_1_C_mean'] - df['C']\n",
    "    df[f'molecule_atom_index_1_C_mean_div'] = df[f'molecule_atom_index_1_C_mean'] / df['C']\n",
    "    df[f'molecule_atom_index_1_C_max'] = df.groupby(['molecule_name', 'atom_index_1'])['C'].transform('max')\n",
    "    df[f'molecule_atom_index_1_C_max_diff'] = df[f'molecule_atom_index_1_C_max'] - df['C']\n",
    "    df[f'molecule_atom_index_1_C_max_div'] = df[f'molecule_atom_index_1_C_max'] / df['C']\n",
    "    df[f'molecule_atom_index_1_C_min'] = df.groupby(['molecule_name', 'atom_index_1'])['C'].transform('min')\n",
    "    df[f'molecule_atom_index_1_C_min_diff'] = df[f'molecule_atom_index_1_C_min'] - df['C']\n",
    "    df[f'molecule_atom_index_1_C_min_div'] = df[f'molecule_atom_index_1_C_min'] / df['C']\n",
    "    df[f'molecule_atom_index_1_C_std'] = df.groupby(['molecule_name', 'atom_index_1'])['C'].transform('std')\n",
    "    df[f'molecule_atom_index_1_C_std_diff'] = df[f'molecule_atom_index_1_C_std'] - df['C']\n",
    "    df[f'molecule_atom_index_1_C_std_div'] = df[f'molecule_atom_index_1_C_std'] / df['C']\n",
    "    df[f'molecule_atom_1_C_mean'] = df.groupby(['molecule_name', 'atom_1'])['C'].transform('mean')\n",
    "    df[f'molecule_atom_1_C_min'] = df.groupby(['molecule_name', 'atom_1'])['C'].transform('min')\n",
    "    df[f'molecule_atom_1_C_min_diff'] = df[f'molecule_atom_1_C_min'] - df['C']\n",
    "    df[f'molecule_atom_1_C_min_div'] = df[f'molecule_atom_1_C_min'] / df['C']\n",
    "    df[f'molecule_atom_1_C_std'] = df.groupby(['molecule_name', 'atom_1'])['C'].transform('std')\n",
    "    df[f'molecule_atom_1_C_std_diff'] = df[f'molecule_atom_1_C_std'] - df['C']\n",
    "    df['C_to_type_mean'] = df['C'] / df.groupby('type')['C'].transform('mean')\n",
    "    df['C_to_type_0_mean'] = df['C'] / df.groupby('type_0')['C'].transform('mean')\n",
    "    df[f'molecule_type_0_C_std'] = df.groupby(['molecule_name', 'type_0'])['C'].transform('std')\n",
    "    df[f'molecule_type_0_C_std_diff'] = df[f'molecule_type_0_C_std'] - df['C']\n",
    "    df[f'molecule_type_C_mean'] = df.groupby(['molecule_name', 'type'])['C'].transform('mean')\n",
    "    df[f'molecule_type_C_mean_diff'] = df[f'molecule_type_C_mean'] - df['C']\n",
    "    df[f'molecule_type_C_mean_div'] = df[f'molecule_type_C_mean'] / df['C']\n",
    "    df[f'molecule_type_C_max'] = df.groupby(['molecule_name', 'type'])['C'].transform('max')\n",
    "    df[f'molecule_type_C_min'] = df.groupby(['molecule_name', 'type'])['C'].transform('min')\n",
    "    df[f'molecule_type_C_std'] = df.groupby(['molecule_name', 'type'])['C'].transform('std')\n",
    "    df[f'molecule_type_C_std_diff'] = df[f'molecule_type_C_std'] - df['C']\n",
    "    return df"
   ]
  },
  {
   "cell_type": "code",
   "execution_count": 29,
   "metadata": {},
   "outputs": [],
   "source": [
    "df_train = add_C_features(df_train)\n",
    "df_test = add_C_features(df_test)"
   ]
  },
  {
   "cell_type": "code",
   "execution_count": 33,
   "metadata": {},
   "outputs": [
    {
     "name": "stdout",
     "output_type": "stream",
     "text": [
      "Mem. usage decreased to 355.26 Mb (67.5% reduction)\n"
     ]
    }
   ],
   "source": [
    "# load qm9 data\n",
    "df_qm9 = pd.read_pickle('data.covs.pickle')\n",
    "\n",
    "to_drop_qm9 = ['type', 'linear', 'atom_index_0', 'atom_index_1', 'scalar_coupling_constant', 'U', 'G', 'H', 'mulliken_mean', 'r2', 'U0']\n",
    "df_qm9 = df_qm9.drop(columns = to_drop_qm9, axis=1)\n",
    "df_qm9 = reduce_mem_usage(df_qm9)\n",
    "\n",
    "df_train = pd.merge(df_train, df_qm9, how='left', on=['molecule_name','id'])\n",
    "df_test = pd.merge(df_test, df_qm9, how='left', on=['molecule_name','id'])"
   ]
  },
  {
   "cell_type": "code",
   "execution_count": 30,
   "metadata": {},
   "outputs": [],
   "source": [
    "good_columns = ['molecule_atom_index_0_dist_min','molecule_atom_index_0_dist_max',\n",
    "                'molecule_atom_index_1_dist_min','molecule_atom_index_0_dist_mean',\n",
    "                'molecule_atom_index_0_dist_std','dist','molecule_atom_index_1_dist_std',\n",
    "                'molecule_atom_index_1_dist_max','molecule_atom_index_1_dist_mean',\n",
    "                'molecule_atom_index_0_dist_max_diff','molecule_atom_index_0_dist_max_div',\n",
    "                'molecule_atom_index_0_dist_std_diff','molecule_atom_index_0_dist_std_div',\n",
    "                'atom_0_couples_count','molecule_atom_index_0_dist_min_div',\n",
    "                'molecule_atom_index_1_dist_std_diff','molecule_atom_index_0_dist_mean_div',\n",
    "                'atom_1_couples_count','molecule_atom_index_0_dist_mean_diff',\n",
    "                'molecule_couples','atom_index_1','molecule_dist_mean',\n",
    "                'molecule_atom_index_1_dist_max_diff', 'molecule_atom_index_0_y_1_std',\n",
    "                'molecule_atom_index_1_dist_mean_diff','molecule_atom_index_1_dist_std_div',\n",
    "                'molecule_atom_index_1_dist_mean_div', 'molecule_atom_index_1_dist_min_diff',\n",
    "                'molecule_atom_index_1_dist_min_div','molecule_atom_index_1_dist_max_div',\n",
    "                'molecule_atom_index_0_z_1_std', 'y_0','molecule_type_dist_std_diff',\n",
    "                'molecule_atom_1_dist_min_diff','molecule_atom_index_0_x_1_std','molecule_dist_min',\n",
    "                'molecule_atom_index_0_dist_min_diff', 'molecule_atom_index_0_y_1_mean_diff',\n",
    "                'molecule_type_dist_min','molecule_atom_1_dist_min_div','atom_index_0',\n",
    "                'molecule_dist_max','molecule_atom_1_dist_std_diff', 'molecule_type_dist_max',\n",
    "                'molecule_atom_index_0_y_1_max_diff','molecule_type_0_dist_std_diff',\n",
    "                'molecule_type_dist_mean_diff','molecule_atom_1_dist_mean',\n",
    "                'molecule_atom_index_0_y_1_mean_div','molecule_type_dist_mean_div','type', 'scalar_coupling_constant'] + ['rc_A', \n",
    "                'rc_B', 'rc_C', 'mu', 'alpha', 'homo', 'lumo', 'gap', 'zpve', 'Cv', 'freqs_min', 'freqs_max',\n",
    "                'freqs_mean', 'mulliken_min', 'mulliken_max', 'mulliken_atom_0', 'mulliken_atom_1'] + ['atomic_num_0',\n",
    "                'atomic_num_1'] + ['molecule_atom_index_0_C_min','molecule_atom_index_0_C_max',\n",
    "                'molecule_atom_index_1_C_min','molecule_atom_index_0_C_mean',\n",
    "                'molecule_atom_index_0_C_std','C','molecule_atom_index_1_C_std',\n",
    "                'molecule_atom_index_1_C_max','molecule_atom_index_1_C_mean',\n",
    "                'molecule_atom_index_0_C_max_diff','molecule_atom_index_0_C_max_div',\n",
    "                'molecule_atom_index_0_C_std_diff','molecule_atom_index_0_C_std_div',\n",
    "                'atom_0_couples_count','molecule_atom_index_0_C_min_div',\n",
    "                'molecule_atom_index_1_C_std_diff','molecule_atom_index_0_C_mean_div',\n",
    "                'atom_1_couples_count','molecule_atom_index_0_C_mean_diff', 'molecule_C_mean',\n",
    "                'molecule_atom_index_1_C_max_diff', 'molecule_atom_index_1_C_mean_diff','molecule_atom_index_1_C_std_div',\n",
    "                'molecule_atom_index_1_C_mean_div', 'molecule_atom_index_1_C_min_diff',\n",
    "                'molecule_atom_index_1_C_min_div','molecule_atom_index_1_C_max_div',\n",
    "                'molecule_atom_index_0_z_1_std', 'y_0','molecule_type_C_std_diff',\n",
    "                'molecule_atom_1_C_min_diff', 'molecule_atom_index_0_C_min_diff', 'molecule_type_C_min','molecule_atom_1_C_min_div',\n",
    "                'molecule_C_max','molecule_atom_1_C_std_diff', 'molecule_type_C_max', 'molecule_type_0_C_std_diff',\n",
    "                'molecule_type_C_mean_diff','molecule_atom_1_C_mean', 'molecule_type_C_mean_div'] + ['rc_A', \n",
    "                'rc_B', 'rc_C', 'mu', 'alpha', 'homo', 'lumo', 'gap', 'zpve', 'Cv', 'freqs_min', 'freqs_max',\n",
    "                'freqs_mean', 'mulliken_min', 'mulliken_max', 'mulliken_atom_0', 'mulliken_atom_1'] + ['atomic_num_0',\n",
    "                'atomic_num_1', 'C', 'molecule_type_C_mean']"
   ]
  },
  {
   "cell_type": "code",
   "execution_count": 35,
   "metadata": {},
   "outputs": [],
   "source": [
    "#encode labels\n",
    "for f in ['atom_0', 'atom_1', 'type_0', 'type_1', 'type', 'atom_index_0', 'atom_index_1']:\n",
    "    lbl = LabelEncoder()\n",
    "    lbl.fit(list(df_train[f].values) + list(df_test[f].values))\n",
    "    df_train[f] = lbl.transform(list(df_train[f].values))\n",
    "    df_test[f] = lbl.transform(list(df_test[f].values))"
   ]
  },
  {
   "cell_type": "code",
   "execution_count": null,
   "metadata": {},
   "outputs": [],
   "source": [
    "# find correlated features\n",
    "corr_matrix = df_train[df_train['scalar_coupling_constant'].notnull()].corr().abs()\n",
    "upper = corr_matrix.where(np.triu(np.ones(corr_matrix.shape), k=1).astype(np.bool))\n",
    "corr_matrix[['scalar_coupling_constant']].T"
   ]
  },
  {
   "cell_type": "code",
   "execution_count": 37,
   "metadata": {},
   "outputs": [
    {
     "data": {
      "text/plain": [
       "['Z1_Z2',\n",
       " 'molecule_atom_index_0_C_max_div',\n",
       " 'type_1',\n",
       " 'molecule_dist_min',\n",
       " 'molecule_atom_index_0_dist_mean_diff',\n",
       " 'molecule_atom_index_0_dist_max_div',\n",
       " 'molecule_atom_index_0_dist_min_diff',\n",
       " 'molecule_atom_index_0_dist_std_diff',\n",
       " 'molecule_atom_index_1_dist_min_div',\n",
       " 'molecule_atom_1_dist_std_diff',\n",
       " 'dist_to_type_1_mean',\n",
       " 'molecule_type_0_dist_std_diff',\n",
       " 'molecule_type_1_dist_std',\n",
       " 'molecule_type_1_dist_std_diff',\n",
       " 'molecule_type_dist_mean',\n",
       " 'molecule_type_dist_mean_div',\n",
       " 'molecule_type_dist_max',\n",
       " 'molecule_type_dist_min',\n",
       " 'molecule_type_dist_std_diff',\n",
       " 'molecule_atom_index_0_C_std_diff',\n",
       " 'molecule_atom_index_0_C_std_div',\n",
       " 'molecule_atom_index_1_C_max_div',\n",
       " 'molecule_atom_index_1_C_min_diff',\n",
       " 'molecule_atom_index_1_C_min_div',\n",
       " 'molecule_atom_1_C_mean',\n",
       " 'molecule_atom_1_C_min',\n",
       " 'molecule_atom_1_C_min_div',\n",
       " 'molecule_atom_1_C_std_diff',\n",
       " 'C_to_type_mean',\n",
       " 'molecule_type_0_C_std_diff',\n",
       " 'molecule_type_C_mean',\n",
       " 'molecule_type_C_mean_div',\n",
       " 'molecule_type_C_max',\n",
       " 'molecule_type_C_min',\n",
       " 'molecule_type_C_std_diff']"
      ]
     },
     "execution_count": 37,
     "metadata": {},
     "output_type": "execute_result"
    }
   ],
   "source": [
    "# select columns with correlations above threshold\n",
    "threshold = 0.97\n",
    "to_drop = [column for column in upper.columns if any(upper[column] > threshold)]\n",
    "to_drop"
   ]
  },
  {
   "cell_type": "code",
   "execution_count": 38,
   "metadata": {},
   "outputs": [],
   "source": [
    "df_train = df_train.drop(to_drop, axis=1)\n",
    "df_test = df_test.drop(to_drop, axis=1)"
   ]
  },
  {
   "cell_type": "code",
   "execution_count": 39,
   "metadata": {},
   "outputs": [
    {
     "data": {
      "text/html": [
       "<div>\n",
       "<style scoped>\n",
       "    .dataframe tbody tr th:only-of-type {\n",
       "        vertical-align: middle;\n",
       "    }\n",
       "\n",
       "    .dataframe tbody tr th {\n",
       "        vertical-align: top;\n",
       "    }\n",
       "\n",
       "    .dataframe thead th {\n",
       "        text-align: right;\n",
       "    }\n",
       "</style>\n",
       "<table border=\"1\" class=\"dataframe\">\n",
       "  <thead>\n",
       "    <tr style=\"text-align: right;\">\n",
       "      <th></th>\n",
       "      <th>id</th>\n",
       "      <th>molecule_name</th>\n",
       "      <th>atom_index_0</th>\n",
       "      <th>atom_index_1</th>\n",
       "      <th>type</th>\n",
       "      <th>scalar_coupling_constant</th>\n",
       "      <th>atom_0</th>\n",
       "      <th>x_0</th>\n",
       "      <th>y_0</th>\n",
       "      <th>z_0</th>\n",
       "      <th>...</th>\n",
       "      <th>gap</th>\n",
       "      <th>zpve</th>\n",
       "      <th>Cv</th>\n",
       "      <th>freqs_min</th>\n",
       "      <th>freqs_max</th>\n",
       "      <th>freqs_mean</th>\n",
       "      <th>mulliken_min</th>\n",
       "      <th>mulliken_max</th>\n",
       "      <th>mulliken_atom_0</th>\n",
       "      <th>mulliken_atom_1</th>\n",
       "    </tr>\n",
       "  </thead>\n",
       "  <tbody>\n",
       "    <tr>\n",
       "      <th>0</th>\n",
       "      <td>0</td>\n",
       "      <td>dsgdb9nsd_000001</td>\n",
       "      <td>1</td>\n",
       "      <td>0</td>\n",
       "      <td>0</td>\n",
       "      <td>84.812500</td>\n",
       "      <td>0</td>\n",
       "      <td>0.002150</td>\n",
       "      <td>-0.006031</td>\n",
       "      <td>0.001976</td>\n",
       "      <td>...</td>\n",
       "      <td>0.504883</td>\n",
       "      <td>0.044739</td>\n",
       "      <td>6.46875</td>\n",
       "      <td>1341.0</td>\n",
       "      <td>3152.0</td>\n",
       "      <td>2182.0</td>\n",
       "      <td>-0.535645</td>\n",
       "      <td>0.133911</td>\n",
       "      <td>0.133911</td>\n",
       "      <td>-0.535645</td>\n",
       "    </tr>\n",
       "    <tr>\n",
       "      <th>1</th>\n",
       "      <td>1</td>\n",
       "      <td>dsgdb9nsd_000001</td>\n",
       "      <td>1</td>\n",
       "      <td>2</td>\n",
       "      <td>3</td>\n",
       "      <td>-11.257812</td>\n",
       "      <td>0</td>\n",
       "      <td>0.002150</td>\n",
       "      <td>-0.006031</td>\n",
       "      <td>0.001976</td>\n",
       "      <td>...</td>\n",
       "      <td>0.504883</td>\n",
       "      <td>0.044739</td>\n",
       "      <td>6.46875</td>\n",
       "      <td>1341.0</td>\n",
       "      <td>3152.0</td>\n",
       "      <td>2182.0</td>\n",
       "      <td>-0.535645</td>\n",
       "      <td>0.133911</td>\n",
       "      <td>0.133911</td>\n",
       "      <td>0.133911</td>\n",
       "    </tr>\n",
       "    <tr>\n",
       "      <th>2</th>\n",
       "      <td>2</td>\n",
       "      <td>dsgdb9nsd_000001</td>\n",
       "      <td>1</td>\n",
       "      <td>3</td>\n",
       "      <td>3</td>\n",
       "      <td>-11.257812</td>\n",
       "      <td>0</td>\n",
       "      <td>0.002150</td>\n",
       "      <td>-0.006031</td>\n",
       "      <td>0.001976</td>\n",
       "      <td>...</td>\n",
       "      <td>0.504883</td>\n",
       "      <td>0.044739</td>\n",
       "      <td>6.46875</td>\n",
       "      <td>1341.0</td>\n",
       "      <td>3152.0</td>\n",
       "      <td>2182.0</td>\n",
       "      <td>-0.535645</td>\n",
       "      <td>0.133911</td>\n",
       "      <td>0.133911</td>\n",
       "      <td>0.133911</td>\n",
       "    </tr>\n",
       "    <tr>\n",
       "      <th>3</th>\n",
       "      <td>3</td>\n",
       "      <td>dsgdb9nsd_000001</td>\n",
       "      <td>1</td>\n",
       "      <td>4</td>\n",
       "      <td>3</td>\n",
       "      <td>-11.257812</td>\n",
       "      <td>0</td>\n",
       "      <td>0.002150</td>\n",
       "      <td>-0.006031</td>\n",
       "      <td>0.001976</td>\n",
       "      <td>...</td>\n",
       "      <td>0.504883</td>\n",
       "      <td>0.044739</td>\n",
       "      <td>6.46875</td>\n",
       "      <td>1341.0</td>\n",
       "      <td>3152.0</td>\n",
       "      <td>2182.0</td>\n",
       "      <td>-0.535645</td>\n",
       "      <td>0.133911</td>\n",
       "      <td>0.133911</td>\n",
       "      <td>0.133911</td>\n",
       "    </tr>\n",
       "    <tr>\n",
       "      <th>4</th>\n",
       "      <td>4</td>\n",
       "      <td>dsgdb9nsd_000001</td>\n",
       "      <td>2</td>\n",
       "      <td>0</td>\n",
       "      <td>0</td>\n",
       "      <td>84.812500</td>\n",
       "      <td>0</td>\n",
       "      <td>1.011719</td>\n",
       "      <td>1.463867</td>\n",
       "      <td>0.000277</td>\n",
       "      <td>...</td>\n",
       "      <td>0.504883</td>\n",
       "      <td>0.044739</td>\n",
       "      <td>6.46875</td>\n",
       "      <td>1341.0</td>\n",
       "      <td>3152.0</td>\n",
       "      <td>2182.0</td>\n",
       "      <td>-0.535645</td>\n",
       "      <td>0.133911</td>\n",
       "      <td>0.133911</td>\n",
       "      <td>-0.535645</td>\n",
       "    </tr>\n",
       "  </tbody>\n",
       "</table>\n",
       "<p>5 rows × 109 columns</p>\n",
       "</div>"
      ],
      "text/plain": [
       "   id     molecule_name  atom_index_0  atom_index_1  type  \\\n",
       "0   0  dsgdb9nsd_000001             1             0     0   \n",
       "1   1  dsgdb9nsd_000001             1             2     3   \n",
       "2   2  dsgdb9nsd_000001             1             3     3   \n",
       "3   3  dsgdb9nsd_000001             1             4     3   \n",
       "4   4  dsgdb9nsd_000001             2             0     0   \n",
       "\n",
       "   scalar_coupling_constant  atom_0       x_0       y_0       z_0  \\\n",
       "0                 84.812500       0  0.002150 -0.006031  0.001976   \n",
       "1                -11.257812       0  0.002150 -0.006031  0.001976   \n",
       "2                -11.257812       0  0.002150 -0.006031  0.001976   \n",
       "3                -11.257812       0  0.002150 -0.006031  0.001976   \n",
       "4                 84.812500       0  1.011719  1.463867  0.000277   \n",
       "\n",
       "        ...              gap      zpve       Cv  freqs_min  freqs_max  \\\n",
       "0       ...         0.504883  0.044739  6.46875     1341.0     3152.0   \n",
       "1       ...         0.504883  0.044739  6.46875     1341.0     3152.0   \n",
       "2       ...         0.504883  0.044739  6.46875     1341.0     3152.0   \n",
       "3       ...         0.504883  0.044739  6.46875     1341.0     3152.0   \n",
       "4       ...         0.504883  0.044739  6.46875     1341.0     3152.0   \n",
       "\n",
       "   freqs_mean  mulliken_min  mulliken_max  mulliken_atom_0  mulliken_atom_1  \n",
       "0      2182.0     -0.535645      0.133911         0.133911        -0.535645  \n",
       "1      2182.0     -0.535645      0.133911         0.133911         0.133911  \n",
       "2      2182.0     -0.535645      0.133911         0.133911         0.133911  \n",
       "3      2182.0     -0.535645      0.133911         0.133911         0.133911  \n",
       "4      2182.0     -0.535645      0.133911         0.133911        -0.535645  \n",
       "\n",
       "[5 rows x 109 columns]"
      ]
     },
     "execution_count": 39,
     "metadata": {},
     "output_type": "execute_result"
    }
   ],
   "source": [
    "df_train.head()"
   ]
  },
  {
   "cell_type": "code",
   "execution_count": null,
   "metadata": {},
   "outputs": [],
   "source": []
  },
  {
   "cell_type": "code",
   "execution_count": null,
   "metadata": {},
   "outputs": [],
   "source": []
  },
  {
   "cell_type": "markdown",
   "metadata": {},
   "source": [
    "# Preprocessing"
   ]
  },
  {
   "cell_type": "code",
   "execution_count": 49,
   "metadata": {},
   "outputs": [],
   "source": [
    "def preprocess(df):\n",
    "    df = pd.DataFrame()\n",
    "    for column in good_columns:\n",
    "        if column not in to_drop:\n",
    "            df[column] = df_train[column]\n",
    "    df = df.fillna(0)\n",
    "    return df"
   ]
  },
  {
   "cell_type": "code",
   "execution_count": 60,
   "metadata": {},
   "outputs": [
    {
     "data": {
      "text/html": [
       "<div>\n",
       "<style scoped>\n",
       "    .dataframe tbody tr th:only-of-type {\n",
       "        vertical-align: middle;\n",
       "    }\n",
       "\n",
       "    .dataframe tbody tr th {\n",
       "        vertical-align: top;\n",
       "    }\n",
       "\n",
       "    .dataframe thead th {\n",
       "        text-align: right;\n",
       "    }\n",
       "</style>\n",
       "<table border=\"1\" class=\"dataframe\">\n",
       "  <thead>\n",
       "    <tr style=\"text-align: right;\">\n",
       "      <th></th>\n",
       "      <th>molecule_atom_index_0_dist_min</th>\n",
       "      <th>molecule_atom_index_0_dist_max</th>\n",
       "      <th>molecule_atom_index_1_dist_min</th>\n",
       "      <th>molecule_atom_index_0_dist_mean</th>\n",
       "      <th>molecule_atom_index_0_dist_std</th>\n",
       "      <th>dist</th>\n",
       "      <th>molecule_atom_index_1_dist_std</th>\n",
       "      <th>molecule_atom_index_1_dist_max</th>\n",
       "      <th>molecule_atom_index_1_dist_mean</th>\n",
       "      <th>molecule_atom_index_0_dist_max_diff</th>\n",
       "      <th>...</th>\n",
       "      <th>molecule_atom_index_0_C_mean_diff</th>\n",
       "      <th>molecule_C_mean</th>\n",
       "      <th>molecule_atom_index_1_C_max_diff</th>\n",
       "      <th>molecule_atom_index_1_C_mean_diff</th>\n",
       "      <th>molecule_atom_index_1_C_std_div</th>\n",
       "      <th>molecule_atom_index_1_C_mean_div</th>\n",
       "      <th>molecule_atom_1_C_min_diff</th>\n",
       "      <th>molecule_atom_index_0_C_min_diff</th>\n",
       "      <th>molecule_C_max</th>\n",
       "      <th>molecule_type_C_mean_diff</th>\n",
       "    </tr>\n",
       "  </thead>\n",
       "  <tbody>\n",
       "    <tr>\n",
       "      <th>0</th>\n",
       "      <td>1.091797</td>\n",
       "      <td>1.783203</td>\n",
       "      <td>1.091797</td>\n",
       "      <td>1.610352</td>\n",
       "      <td>0.345703</td>\n",
       "      <td>1.091797</td>\n",
       "      <td>0.000003</td>\n",
       "      <td>1.091797</td>\n",
       "      <td>1.091797</td>\n",
       "      <td>0.691406</td>\n",
       "      <td>...</td>\n",
       "      <td>-3.701172</td>\n",
       "      <td>2.535156</td>\n",
       "      <td>0.0</td>\n",
       "      <td>0.0</td>\n",
       "      <td>0.0</td>\n",
       "      <td>1.0</td>\n",
       "      <td>0.0</td>\n",
       "      <td>-4.933594</td>\n",
       "      <td>5.496094</td>\n",
       "      <td>0.0</td>\n",
       "    </tr>\n",
       "    <tr>\n",
       "      <th>1</th>\n",
       "      <td>1.091797</td>\n",
       "      <td>1.783203</td>\n",
       "      <td>1.783203</td>\n",
       "      <td>1.610352</td>\n",
       "      <td>0.345703</td>\n",
       "      <td>1.783203</td>\n",
       "      <td>0.000000</td>\n",
       "      <td>1.783203</td>\n",
       "      <td>1.783203</td>\n",
       "      <td>0.000037</td>\n",
       "      <td>...</td>\n",
       "      <td>1.234375</td>\n",
       "      <td>2.535156</td>\n",
       "      <td>0.0</td>\n",
       "      <td>0.0</td>\n",
       "      <td>0.0</td>\n",
       "      <td>1.0</td>\n",
       "      <td>0.0</td>\n",
       "      <td>0.000000</td>\n",
       "      <td>5.496094</td>\n",
       "      <td>0.0</td>\n",
       "    </tr>\n",
       "    <tr>\n",
       "      <th>2</th>\n",
       "      <td>1.091797</td>\n",
       "      <td>1.783203</td>\n",
       "      <td>1.783203</td>\n",
       "      <td>1.610352</td>\n",
       "      <td>0.345703</td>\n",
       "      <td>1.783203</td>\n",
       "      <td>0.000007</td>\n",
       "      <td>1.783203</td>\n",
       "      <td>1.783203</td>\n",
       "      <td>0.000009</td>\n",
       "      <td>...</td>\n",
       "      <td>1.234375</td>\n",
       "      <td>2.535156</td>\n",
       "      <td>0.0</td>\n",
       "      <td>0.0</td>\n",
       "      <td>0.0</td>\n",
       "      <td>1.0</td>\n",
       "      <td>0.0</td>\n",
       "      <td>0.000000</td>\n",
       "      <td>5.496094</td>\n",
       "      <td>0.0</td>\n",
       "    </tr>\n",
       "    <tr>\n",
       "      <th>3</th>\n",
       "      <td>1.091797</td>\n",
       "      <td>1.783203</td>\n",
       "      <td>1.783203</td>\n",
       "      <td>1.610352</td>\n",
       "      <td>0.345703</td>\n",
       "      <td>1.783203</td>\n",
       "      <td>0.000005</td>\n",
       "      <td>1.783203</td>\n",
       "      <td>1.783203</td>\n",
       "      <td>0.000000</td>\n",
       "      <td>...</td>\n",
       "      <td>1.234375</td>\n",
       "      <td>2.535156</td>\n",
       "      <td>0.0</td>\n",
       "      <td>0.0</td>\n",
       "      <td>0.0</td>\n",
       "      <td>1.0</td>\n",
       "      <td>0.0</td>\n",
       "      <td>0.000000</td>\n",
       "      <td>5.496094</td>\n",
       "      <td>0.0</td>\n",
       "    </tr>\n",
       "    <tr>\n",
       "      <th>4</th>\n",
       "      <td>1.091797</td>\n",
       "      <td>1.783203</td>\n",
       "      <td>1.091797</td>\n",
       "      <td>1.552734</td>\n",
       "      <td>0.399170</td>\n",
       "      <td>1.091797</td>\n",
       "      <td>0.000003</td>\n",
       "      <td>1.091797</td>\n",
       "      <td>1.091797</td>\n",
       "      <td>0.691406</td>\n",
       "      <td>...</td>\n",
       "      <td>-3.289062</td>\n",
       "      <td>2.535156</td>\n",
       "      <td>0.0</td>\n",
       "      <td>0.0</td>\n",
       "      <td>0.0</td>\n",
       "      <td>1.0</td>\n",
       "      <td>0.0</td>\n",
       "      <td>-4.933594</td>\n",
       "      <td>5.496094</td>\n",
       "      <td>0.0</td>\n",
       "    </tr>\n",
       "  </tbody>\n",
       "</table>\n",
       "<p>5 rows × 82 columns</p>\n",
       "</div>"
      ],
      "text/plain": [
       "   molecule_atom_index_0_dist_min  molecule_atom_index_0_dist_max  \\\n",
       "0                        1.091797                        1.783203   \n",
       "1                        1.091797                        1.783203   \n",
       "2                        1.091797                        1.783203   \n",
       "3                        1.091797                        1.783203   \n",
       "4                        1.091797                        1.783203   \n",
       "\n",
       "   molecule_atom_index_1_dist_min  molecule_atom_index_0_dist_mean  \\\n",
       "0                        1.091797                         1.610352   \n",
       "1                        1.783203                         1.610352   \n",
       "2                        1.783203                         1.610352   \n",
       "3                        1.783203                         1.610352   \n",
       "4                        1.091797                         1.552734   \n",
       "\n",
       "   molecule_atom_index_0_dist_std      dist  molecule_atom_index_1_dist_std  \\\n",
       "0                        0.345703  1.091797                        0.000003   \n",
       "1                        0.345703  1.783203                        0.000000   \n",
       "2                        0.345703  1.783203                        0.000007   \n",
       "3                        0.345703  1.783203                        0.000005   \n",
       "4                        0.399170  1.091797                        0.000003   \n",
       "\n",
       "   molecule_atom_index_1_dist_max  molecule_atom_index_1_dist_mean  \\\n",
       "0                        1.091797                         1.091797   \n",
       "1                        1.783203                         1.783203   \n",
       "2                        1.783203                         1.783203   \n",
       "3                        1.783203                         1.783203   \n",
       "4                        1.091797                         1.091797   \n",
       "\n",
       "   molecule_atom_index_0_dist_max_diff            ...              \\\n",
       "0                             0.691406            ...               \n",
       "1                             0.000037            ...               \n",
       "2                             0.000009            ...               \n",
       "3                             0.000000            ...               \n",
       "4                             0.691406            ...               \n",
       "\n",
       "   molecule_atom_index_0_C_mean_diff  molecule_C_mean  \\\n",
       "0                          -3.701172         2.535156   \n",
       "1                           1.234375         2.535156   \n",
       "2                           1.234375         2.535156   \n",
       "3                           1.234375         2.535156   \n",
       "4                          -3.289062         2.535156   \n",
       "\n",
       "   molecule_atom_index_1_C_max_diff  molecule_atom_index_1_C_mean_diff  \\\n",
       "0                               0.0                                0.0   \n",
       "1                               0.0                                0.0   \n",
       "2                               0.0                                0.0   \n",
       "3                               0.0                                0.0   \n",
       "4                               0.0                                0.0   \n",
       "\n",
       "   molecule_atom_index_1_C_std_div  molecule_atom_index_1_C_mean_div  \\\n",
       "0                              0.0                               1.0   \n",
       "1                              0.0                               1.0   \n",
       "2                              0.0                               1.0   \n",
       "3                              0.0                               1.0   \n",
       "4                              0.0                               1.0   \n",
       "\n",
       "   molecule_atom_1_C_min_diff  molecule_atom_index_0_C_min_diff  \\\n",
       "0                         0.0                         -4.933594   \n",
       "1                         0.0                          0.000000   \n",
       "2                         0.0                          0.000000   \n",
       "3                         0.0                          0.000000   \n",
       "4                         0.0                         -4.933594   \n",
       "\n",
       "   molecule_C_max  molecule_type_C_mean_diff  \n",
       "0        5.496094                        0.0  \n",
       "1        5.496094                        0.0  \n",
       "2        5.496094                        0.0  \n",
       "3        5.496094                        0.0  \n",
       "4        5.496094                        0.0  \n",
       "\n",
       "[5 rows x 82 columns]"
      ]
     },
     "execution_count": 60,
     "metadata": {},
     "output_type": "execute_result"
    }
   ],
   "source": [
    "df_train = preprocess(df_train)\n",
    "df_test = preprocess(df_test)\n",
    "df_test.head()"
   ]
  },
  {
   "cell_type": "markdown",
   "metadata": {},
   "source": [
    "# Model"
   ]
  },
  {
   "cell_type": "code",
   "execution_count": 57,
   "metadata": {},
   "outputs": [],
   "source": [
    "param = {'boosting': 'gbdt', 'colsample_bytree': 1, \n",
    "          'learning_rate': 0.1, 'max_depth': 40, 'metric': 'mae',\n",
    "          'min_child_samples': 50, 'num_leaves': 500, \n",
    "          'objective': 'regression', 'reg_alpha': 0.5, \n",
    "          'reg_lambda': 0.8, 'subsample': 0.5 }\n",
    "\n",
    "param_2 = {'num_leaves': 128, 'min_child_samples': 79, 'objective': 'regression',\n",
    "          'max_depth': 9, 'learning_rate': 0.25,\n",
    "          \"boosting_type\": \"gbdt\", \"subsample_freq\": 1, \"subsample\": 0.9,\n",
    "          \"bagging_seed\": 11, \"metric\": 'mae', \"verbosity\": -1, \n",
    "          'reg_alpha': 0.1, 'reg_lambda': 0.3, 'colsample_bytree': 1.0 }"
   ]
  },
  {
   "cell_type": "markdown",
   "metadata": {},
   "source": [
    "## Single Model"
   ]
  },
  {
   "cell_type": "code",
   "execution_count": 58,
   "metadata": {},
   "outputs": [],
   "source": [
    "def group_mean_log_mae(y_true, y):\n",
    "    gmlmae = 0\n",
    "    train_sample_size = int(df_train.shape[0]*0.7)\n",
    "    for c_type in pd.unique(df_train[train_sample_size:]['type']):\n",
    "        n_t = df_train[train_sample_size:].loc[df_train[train_sample_size:]['type'] == c_type].shape[0]\n",
    "        y_true_t = y_true[df_train[train_sample_size:]['type'] == c_type]\n",
    "        y_t = y[df_train[train_sample_size:]['type'] == c_type]\n",
    "        mean_abs_err = np.sum(abs(y_true_t - y_t))/n_t\n",
    "        lmae = np.log(mean_abs_err)\n",
    "        gmlmae += lmae\n",
    "    return gmlmae/df_train[train_sample_size:]['type'].nunique()"
   ]
  },
  {
   "cell_type": "code",
   "execution_count": null,
   "metadata": {},
   "outputs": [],
   "source": [
    "train_sample_size = int(df_train.shape[0]*0.7)\n",
    "df_train_x = df_train[:train_sample_size].drop('scalar_coupling_constant', axis=1)\n",
    "df_train_y = df_train[:train_sample_size][['scalar_coupling_constant']]\n",
    "\n",
    "df_val_x = df_train[train_sample_size:].drop('scalar_coupling_constant', axis=1)\n",
    "df_val_y = df_train[train_sample_size:][['scalar_coupling_constant']]\n",
    "\n",
    "lgtrain = lgb.Dataset(df_train_x, label=df_train_y)\n",
    "lgval = lgb.Dataset(df_val_x, label=df_val_y)\n",
    "model_lgb = lgb.train(param, lgtrain, 5000, \n",
    "                      valid_sets=[lgtrain, lgval], early_stopping_rounds=250, \n",
    "                      verbose_eval=500)\n",
    "        \n",
    "#model_lgb = lgb.LGBMRegressor(**param, n_estimators = 3000, n_jobs = -1)\n",
    "#model_lgb.fit(df_train_x, df_train_y, \n",
    "              #eval_set=[(df_train_x, df_train_y), (df_val_x, df_val_y)], eval_metric='mae',\n",
    "              #verbose=500, early_stopping_rounds=200)"
   ]
  },
  {
   "cell_type": "code",
   "execution_count": null,
   "metadata": {},
   "outputs": [],
   "source": [
    "prediction = model_lgb.predict(df_val_x)\n",
    "group_mean_log_mae(np.array(df_val_y).flatten(), prediction)"
   ]
  },
  {
   "cell_type": "markdown",
   "metadata": {},
   "source": [
    "## Types Seperately "
   ]
  },
  {
   "cell_type": "code",
   "execution_count": null,
   "metadata": {},
   "outputs": [],
   "source": [
    "def group_mean_log_mae_t(y_true, y):\n",
    "    n_t = y_true.shape[0]\n",
    "    mean_abs_err = np.sum(abs(y_true - y))/n_t\n",
    "    return np.log(mean_abs_err)"
   ]
  },
  {
   "cell_type": "code",
   "execution_count": null,
   "metadata": {},
   "outputs": [],
   "source": [
    "for i, c_type in enumerate(pd.unique(df_train['type'])):\n",
    "    df_train_x = df_train.loc[df_train['type'] == c_type].drop('scalar_coupling_constant', axis=1)\n",
    "    df_train_y = df_train.loc[df_train['type'] == c_type][['scalar_coupling_constant']]\n",
    "\n",
    "    train_sample_size = int(df_train_x.shape[0]*0.7)\n",
    "\n",
    "    lgtrain = lgb.Dataset(df_train_x[:train_sample_size], label=df_train_y[:train_sample_size])\n",
    "    lgval = lgb.Dataset(df_train_x[train_sample_size:], label=df_train_y[train_sample_size:])\n",
    "    print(f'type:{c_type}')\n",
    "    model_lgb = lgb.train(param, lgtrain, 5000, \n",
    "                      valid_sets=[lgtrain, lgval], early_stopping_rounds=250, \n",
    "                      verbose_eval=500)\n",
    "    prediction = model_lgb.predict(df_train_x[train_sample_size:])\n",
    "    print(f\"group_mean_log_mae:{group_mean_log_mae_t(np.array(df_train_y[train_sample_size:]).flatten(), prediction)}\\n\")"
   ]
  },
  {
   "cell_type": "markdown",
   "metadata": {},
   "source": [
    "# Submission"
   ]
  },
  {
   "cell_type": "code",
   "execution_count": null,
   "metadata": {},
   "outputs": [],
   "source": [
    "submission = pd.read_csv('champs-scalar-coupling/sample_submission.csv')"
   ]
  },
  {
   "cell_type": "code",
   "execution_count": null,
   "metadata": {},
   "outputs": [],
   "source": [
    "for i, c_type in enumerate(pd.unique(df_train['type'])):\n",
    "    df_train_x = df_train.loc[df_train['type'] == c_type].drop('scalar_coupling_constant', axis=1)\n",
    "    df_train_y = df_train.loc[df_train['type'] == c_type][['scalar_coupling_constant']]\n",
    "\n",
    "    df_test_x = df_test.loc[df_test['type'] == c_type]\n",
    "\n",
    "    train_sample_size = int(df_train_x.shape[0]*0.9)\n",
    "\n",
    "    lgtrain = lgb.Dataset(df_train_x[:train_sample_size], label=df_train_y[:train_sample_size])\n",
    "    lgval = lgb.Dataset(df_train_x[train_sample_size:], label=df_train_y[train_sample_size:])\n",
    "    print(f'type:{c_type}')\n",
    "    model_lgb = lgb.train(param, lgtrain, 5000, \n",
    "                      valid_sets=[lgtrain, lgval], early_stopping_rounds=250, \n",
    "                      verbose_eval=500)\n",
    "\n",
    "    prediction = model_lgb.predict(df_test_x)\n",
    "\n",
    "    df = pd.DataFrame()\n",
    "    df['id'] = submission.loc[df_test['type'] == c_type]['id']\n",
    "    df['scalar_coupling_constant'] = prediction\n",
    "    submission.loc[df_test['type'] == c_type] = df"
   ]
  },
  {
   "cell_type": "code",
   "execution_count": null,
   "metadata": {},
   "outputs": [],
   "source": [
    "# sanity check\n",
    "best_submission = pd.read_csv('best_submission.csv')\n",
    "mean_absolute_error(np.array(best_submission['scalar_coupling_constant']).flatten(), submission['scalar_coupling_constant'])"
   ]
  },
  {
   "cell_type": "code",
   "execution_count": null,
   "metadata": {},
   "outputs": [],
   "source": [
    "submission.to_csv('submission.csv', index=False)"
   ]
  }
 ],
 "metadata": {
  "celltoolbar": "Raw Cell Format",
  "kernelspec": {
   "display_name": "Python3 (tensorflow)",
   "language": "python",
   "name": "tensorflow"
  }
 },
 "nbformat": 4,
 "nbformat_minor": 2
}
