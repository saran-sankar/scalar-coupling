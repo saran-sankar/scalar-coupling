{
 "cells": [
  {
   "cell_type": "code",
   "execution_count": 2,
   "metadata": {},
   "outputs": [],
   "source": [
    "import numpy as np\n",
    "import pandas as pd\n",
    "from sklearn.preprocessing import LabelEncoder\n",
    "from sklearn.ensemble import RandomForestRegressor\n",
    "from sklearn.metrics import mean_absolute_error\n",
    "import matplotlib.pyplot as plt\n",
    "import seaborn as sns\n",
    "import lightgbm as lgb"
   ]
  },
  {
   "cell_type": "code",
   "execution_count": 2,
   "metadata": {},
   "outputs": [],
   "source": [
    "train = pd.read_csv('champs-scalar-coupling/train.csv')\n",
    "structures = pd.read_csv('champs-scalar-coupling/structures.csv')\n",
    "test = pd.read_csv('champs-scalar-coupling/test.csv')"
   ]
  },
  {
   "cell_type": "markdown",
   "metadata": {},
   "source": [
    "# Data Overview"
   ]
  },
  {
   "cell_type": "markdown",
   "metadata": {},
   "source": [
    "with the help of https://www.kaggle.com/artgor/molecular-properties-eda-and-models"
   ]
  },
  {
   "cell_type": "code",
   "execution_count": 3,
   "metadata": {},
   "outputs": [
    {
     "name": "stdout",
     "output_type": "stream",
     "text": [
      "There are 4658147 rows in train data.\n",
      "There are 2505542 rows in test data.\n",
      "There are 85003 distinct molecules in train data.\n",
      "There are 45772 distinct molecules in test data.\n",
      "There are 5 unique atoms.\n",
      "There are 8 unique types.\n"
     ]
    }
   ],
   "source": [
    "print(f'There are {train.shape[0]} rows in train data.')\n",
    "print(f'There are {test.shape[0]} rows in test data.')\n",
    "\n",
    "print(f\"There are {train['molecule_name'].nunique()} distinct molecules in train data.\")\n",
    "print(f\"There are {test['molecule_name'].nunique()} distinct molecules in test data.\")\n",
    "print(f\"There are {structures['atom'].nunique()} unique atoms.\")\n",
    "print(f\"There are {train['type'].nunique()} unique types.\")"
   ]
  },
  {
   "cell_type": "code",
   "execution_count": 4,
   "metadata": {},
   "outputs": [
    {
     "data": {
      "text/html": [
       "<div>\n",
       "<style scoped>\n",
       "    .dataframe tbody tr th:only-of-type {\n",
       "        vertical-align: middle;\n",
       "    }\n",
       "\n",
       "    .dataframe tbody tr th {\n",
       "        vertical-align: top;\n",
       "    }\n",
       "\n",
       "    .dataframe thead th {\n",
       "        text-align: right;\n",
       "    }\n",
       "</style>\n",
       "<table border=\"1\" class=\"dataframe\">\n",
       "  <thead>\n",
       "    <tr style=\"text-align: right;\">\n",
       "      <th></th>\n",
       "      <th>id</th>\n",
       "      <th>atom_index_0</th>\n",
       "      <th>atom_index_1</th>\n",
       "      <th>scalar_coupling_constant</th>\n",
       "    </tr>\n",
       "  </thead>\n",
       "  <tbody>\n",
       "    <tr>\n",
       "      <th>count</th>\n",
       "      <td>4.658147e+06</td>\n",
       "      <td>4.658147e+06</td>\n",
       "      <td>4.658147e+06</td>\n",
       "      <td>4.658147e+06</td>\n",
       "    </tr>\n",
       "    <tr>\n",
       "      <th>mean</th>\n",
       "      <td>2.329073e+06</td>\n",
       "      <td>1.335689e+01</td>\n",
       "      <td>5.883966e+00</td>\n",
       "      <td>1.592165e+01</td>\n",
       "    </tr>\n",
       "    <tr>\n",
       "      <th>std</th>\n",
       "      <td>1.344691e+06</td>\n",
       "      <td>3.267712e+00</td>\n",
       "      <td>4.993943e+00</td>\n",
       "      <td>3.494198e+01</td>\n",
       "    </tr>\n",
       "    <tr>\n",
       "      <th>min</th>\n",
       "      <td>0.000000e+00</td>\n",
       "      <td>0.000000e+00</td>\n",
       "      <td>0.000000e+00</td>\n",
       "      <td>-3.621860e+01</td>\n",
       "    </tr>\n",
       "    <tr>\n",
       "      <th>25%</th>\n",
       "      <td>1.164536e+06</td>\n",
       "      <td>1.100000e+01</td>\n",
       "      <td>2.000000e+00</td>\n",
       "      <td>-2.549780e-01</td>\n",
       "    </tr>\n",
       "    <tr>\n",
       "      <th>50%</th>\n",
       "      <td>2.329073e+06</td>\n",
       "      <td>1.300000e+01</td>\n",
       "      <td>5.000000e+00</td>\n",
       "      <td>2.281130e+00</td>\n",
       "    </tr>\n",
       "    <tr>\n",
       "      <th>75%</th>\n",
       "      <td>3.493610e+06</td>\n",
       "      <td>1.600000e+01</td>\n",
       "      <td>8.000000e+00</td>\n",
       "      <td>7.390655e+00</td>\n",
       "    </tr>\n",
       "    <tr>\n",
       "      <th>max</th>\n",
       "      <td>4.658146e+06</td>\n",
       "      <td>2.800000e+01</td>\n",
       "      <td>2.800000e+01</td>\n",
       "      <td>2.048800e+02</td>\n",
       "    </tr>\n",
       "  </tbody>\n",
       "</table>\n",
       "</div>"
      ],
      "text/plain": [
       "                 id  atom_index_0  atom_index_1  scalar_coupling_constant\n",
       "count  4.658147e+06  4.658147e+06  4.658147e+06              4.658147e+06\n",
       "mean   2.329073e+06  1.335689e+01  5.883966e+00              1.592165e+01\n",
       "std    1.344691e+06  3.267712e+00  4.993943e+00              3.494198e+01\n",
       "min    0.000000e+00  0.000000e+00  0.000000e+00             -3.621860e+01\n",
       "25%    1.164536e+06  1.100000e+01  2.000000e+00             -2.549780e-01\n",
       "50%    2.329073e+06  1.300000e+01  5.000000e+00              2.281130e+00\n",
       "75%    3.493610e+06  1.600000e+01  8.000000e+00              7.390655e+00\n",
       "max    4.658146e+06  2.800000e+01  2.800000e+01              2.048800e+02"
      ]
     },
     "execution_count": 4,
     "metadata": {},
     "output_type": "execute_result"
    }
   ],
   "source": [
    "train.describe()"
   ]
  },
  {
   "cell_type": "code",
   "execution_count": 5,
   "metadata": {},
   "outputs": [],
   "source": [
    "plt.style.use('seaborn')"
   ]
  },
  {
   "cell_type": "code",
   "execution_count": 6,
   "metadata": {},
   "outputs": [
    {
     "name": "stdout",
     "output_type": "stream",
     "text": [
      "there are 709416 1JHC's\n",
      "there are 378036 2JHH's\n",
      "there are 43363 1JHN's\n",
      "there are 119253 2JHN's\n",
      "there are 1140674 2JHC's\n",
      "there are 590611 3JHH's\n",
      "there are 1510379 3JHC's\n",
      "there are 166415 3JHN's\n"
     ]
    },
    {
     "data": {
      "text/plain": [
       "<BarContainer object of 8 artists>"
      ]
     },
     "execution_count": 6,
     "metadata": {},
     "output_type": "execute_result"
    },
    {
     "data": {
      "image/png": "[encoded data removed]",
      "text/plain": [
       "<Figure size 576x396 with 1 Axes>"
      ]
     },
     "metadata": {},
     "output_type": "display_data"
    }
   ],
   "source": [
    "# coupling types (train)\n",
    "\n",
    "c_labels = pd.unique(train['type'])\n",
    "c_counts = []\n",
    "for c_type in pd.unique(train['type']):\n",
    "    count = (train.loc[train['type'] == c_type]).count(axis = 0)['id']\n",
    "    c_counts.append(count)\n",
    "    print(f\"there are {count} {c_type}'s\")\n",
    "plt.bar(c_labels, c_counts)"
   ]
  },
  {
   "cell_type": "code",
   "execution_count": 7,
   "metadata": {},
   "outputs": [
    {
     "name": "stdout",
     "output_type": "stream",
     "text": [
      "there are 613138 2JHC's\n",
      "there are 380609 1JHC's\n",
      "there are 317435 3JHH's\n",
      "there are 811999 3JHC's\n",
      "there are 203126 2JHH's\n",
      "there are 24195 1JHN's\n",
      "there are 90616 3JHN's\n",
      "there are 64424 2JHN's\n"
     ]
    },
    {
     "data": {
      "text/plain": [
       "<BarContainer object of 8 artists>"
      ]
     },
     "execution_count": 7,
     "metadata": {},
     "output_type": "execute_result"
    },
    {
     "data": {
      "image/png": "[encoded data removed]",
      "text/plain": [
       "<Figure size 576x396 with 1 Axes>"
      ]
     },
     "metadata": {},
     "output_type": "display_data"
    }
   ],
   "source": [
    "# coupling types (test)\n",
    "\n",
    "c_labels = pd.unique(test['type'])\n",
    "c_counts = []\n",
    "for c_type in pd.unique(test['type']):\n",
    "    count = (test.loc[test['type'] == c_type]).count(axis = 0)['id']\n",
    "    c_counts.append(count)\n",
    "    print(f\"there are {count} {c_type}'s\")\n",
    "plt.bar(c_labels, c_counts)"
   ]
  },
  {
   "cell_type": "code",
   "execution_count": 8,
   "metadata": {},
   "outputs": [
    {
     "data": {
      "image/png": "[encoded data removed]",
      "text/plain": [
       "<Figure size 1296x432 with 2 Axes>"
      ]
     },
     "metadata": {},
     "output_type": "display_data"
    }
   ],
   "source": [
    "fig, ax = plt.subplots(figsize = (18, 6))\n",
    "plt.subplot(1, 2, 1);\n",
    "plt.hist(train['scalar_coupling_constant'], bins=20);\n",
    "plt.title('Basic scalar_coupling_constant histogram');\n",
    "plt.subplot(1, 2, 2);\n",
    "sns.violinplot(x='type', y='scalar_coupling_constant', data=train);\n",
    "plt.title('Violinplot of scalar_coupling_constant by type');"
   ]
  },
  {
   "cell_type": "markdown",
   "metadata": {},
   "source": [
    "Notes: \n",
    "* Scalar coupling constant has a bimodal histogram\n",
    "* Different coupling types have very different values of scalar coupling constant "
   ]
  },
  {
   "cell_type": "markdown",
   "metadata": {},
   "source": [
    "# Visualization"
   ]
  },
  {
   "cell_type": "code",
   "execution_count": 4,
   "metadata": {},
   "outputs": [],
   "source": [
    "def map_atom_info(df, atom_idx):\n",
    "    df = pd.merge(df, structures, how = 'left',\n",
    "                  left_on  = ['molecule_name', f'atom_index_{atom_idx}'],\n",
    "                  right_on = ['molecule_name',  'atom_index'])\n",
    "    \n",
    "    df = df.drop('atom_index', axis=1)\n",
    "    df = df.rename(columns={'atom': f'atom_{atom_idx}',\n",
    "                            'x': f'x_{atom_idx}',\n",
    "                            'y': f'y_{atom_idx}',\n",
    "                            'z': f'z_{atom_idx}'})\n",
    "    return df"
   ]
  },
  {
   "cell_type": "code",
   "execution_count": 5,
   "metadata": {},
   "outputs": [],
   "source": [
    "# map structure (train)\n",
    "\n",
    "df_train = map_atom_info(train, 0)\n",
    "df_train = map_atom_info(df_train, 1)\n",
    "\n",
    "# map structure (test) \n",
    "\n",
    "df_test = map_atom_info(test, 0)\n",
    "df_test = map_atom_info(df_test, 1)"
   ]
  },
  {
   "cell_type": "code",
   "execution_count": 11,
   "metadata": {},
   "outputs": [],
   "source": [
    "# create distance feature (train)\n",
    "\n",
    "struct_0 = df_train[['x_0', 'y_0', 'z_0']].values\n",
    "struct_1 = df_train[['x_1', 'y_1', 'z_1']].values\n",
    "\n",
    "x_d = np.absolute(struct_0[:,0] - struct_1[:,0])\n",
    "df_train['dist_x'] = x_d\n",
    "\n",
    "y_d = np.absolute(struct_0[:,1] - struct_1[:,1])\n",
    "df_train['dist_y'] = y_d\n",
    "\n",
    "z_d = np.absolute(struct_0[:,2] - struct_1[:,2])\n",
    "df_train['dist_z'] = z_d\n",
    "\n",
    "distance = np.linalg.norm(struct_0 - struct_1, axis=1)\n",
    "df_train['dist'] = distance\n",
    "\n",
    "# create distance feature (test)\n",
    "\n",
    "struct_0 = df_test[['x_0', 'y_0', 'z_0']].values\n",
    "struct_1 = df_test[['x_1', 'y_1', 'z_1']].values\n",
    "\n",
    "x_d = np.absolute(struct_0[:,0] - struct_1[:,0])\n",
    "df_test['dist_x'] = x_d\n",
    "\n",
    "y_d = np.absolute(struct_0[:,1] - struct_1[:,1])\n",
    "df_test['dist_y'] = y_d\n",
    "\n",
    "z_d = np.absolute(struct_0[:,1] - struct_1[:,1])\n",
    "df_test['dist_z'] = z_d\n",
    "\n",
    "distance = np.linalg.norm(struct_0 - struct_1, axis=1)\n",
    "df_test['dist'] = distance"
   ]
  },
  {
   "cell_type": "code",
   "execution_count": 12,
   "metadata": {},
   "outputs": [
    {
     "data": {
      "text/plain": [
       "[Text(0,0.5,'coupling'), Text(0.5,0,'dist')]"
      ]
     },
     "execution_count": 12,
     "metadata": {},
     "output_type": "execute_result"
    },
    {
     "data": {
      "image/png": "[encoded data removed]",
      "text/plain": [
       "<Figure size 720x720 with 1 Axes>"
      ]
     },
     "metadata": {},
     "output_type": "display_data"
    }
   ],
   "source": [
    "# 1/dist vs scalar_coupling_constant\n",
    "fig, ax = plt.subplots(1, 1, figsize=(10,10))\n",
    "\n",
    "x = np.array(df_train['dist']).reshape(-1, 1)\n",
    "y = np.array(df_train['scalar_coupling_constant']).reshape(-1, 1)\n",
    "\n",
    "ax.plot(1/x[:100000],y[:100000],'o')\n",
    "\n",
    "ax.set(xlabel='dist', ylabel='coupling')"
   ]
  },
  {
   "cell_type": "code",
   "execution_count": 13,
   "metadata": {},
   "outputs": [
    {
     "data": {
      "image/png": "[encoded data removed]",
      "text/plain": [
       "<Figure size 1440x720 with 8 Axes>"
      ]
     },
     "metadata": {},
     "output_type": "display_data"
    }
   ],
   "source": [
    "# 1/dist vs scalar_coupling_constant (for each coupling type)\n",
    "fig, axs = plt.subplots(2, 4, figsize=(20,10))\n",
    "row = col = 0\n",
    "\n",
    "for c_type in pd.unique(df_train['type']):\n",
    "    df = df_train.loc[df_train['type'] == c_type]\n",
    "    x = np.array(df['dist']).reshape(-1, 1)\n",
    "    y = np.array(df['scalar_coupling_constant']).reshape(-1, 1)\n",
    "    \n",
    "    axs[row, col].plot(1/x, y, 'o')\n",
    "    axs[row, col].set_title(c_type)\n",
    "    for ax in axs.flat:\n",
    "        ax.set(xlabel='dist', ylabel='coupling')\n",
    "    col += 1\n",
    "    if col > 3:\n",
    "        col = 0\n",
    "        row = 1"
   ]
  },
  {
   "cell_type": "code",
   "execution_count": 14,
   "metadata": {},
   "outputs": [
    {
     "data": {
      "text/plain": [
       "array(['H', 'C', 'N'], dtype=object)"
      ]
     },
     "execution_count": 14,
     "metadata": {},
     "output_type": "execute_result"
    }
   ],
   "source": [
    "#find atoms (train)\n",
    "pd.unique(pd.concat((df_train['atom_0'], df_train['atom_1'])))"
   ]
  },
  {
   "cell_type": "code",
   "execution_count": 15,
   "metadata": {},
   "outputs": [
    {
     "data": {
      "text/plain": [
       "array(['H', 'C', 'N'], dtype=object)"
      ]
     },
     "execution_count": 15,
     "metadata": {},
     "output_type": "execute_result"
    }
   ],
   "source": [
    "#find atoms (test)\n",
    "pd.unique(pd.concat((df_test['atom_0'], df_test['atom_1'])))"
   ]
  },
  {
   "cell_type": "code",
   "execution_count": 16,
   "metadata": {},
   "outputs": [],
   "source": [
    "def atomic_number(x):\n",
    "    if x == 'H':\n",
    "        return 1\n",
    "    elif x == 'C':\n",
    "        return 6\n",
    "    elif x == 'N':\n",
    "        return 7\n",
    "    else:\n",
    "        return x"
   ]
  },
  {
   "cell_type": "code",
   "execution_count": 17,
   "metadata": {},
   "outputs": [],
   "source": [
    "# map atomic numbers\n",
    "\n",
    "df_train['atomic_num_0'] = df_train['atom_0'].apply(lambda x: 1)\n",
    "df_train['atomic_num_1'] = df_train['atom_1'].apply(lambda x: atomic_number(x))\n",
    "df_test['atomic_num_0'] = df_test['atom_0'].apply(lambda x: 1)\n",
    "df_test['atomic_num_1'] = df_test['atom_1'].apply(lambda x: atomic_number(x))\n",
    "\n",
    "# create Z1_Z2 feature (train)\n",
    "\n",
    "atomic_num_0 = df_train['atomic_num_0']\n",
    "atomic_num_1 = df_train['atomic_num_1']\n",
    "Z1_Z2 = atomic_num_0*atomic_num_1\n",
    "df_train['Z1_Z2'] = Z1_Z2\n",
    "\n",
    "# create Z1_Z2 feature (test)\n",
    " \n",
    "atomic_num_0 = df_test['atomic_num_0']\n",
    "atomic_num_1 = df_test['atomic_num_1']\n",
    "Z1_Z2 = atomic_num_0*atomic_num_1\n",
    "df_test['Z1_Z2'] = Z1_Z2\n",
    "\n",
    "# create Coulomb Matrix feature\n",
    "\n",
    "C = df_train['Z1_Z2']/df_train['dist']\n",
    "df_train['C'] = C\n",
    "\n",
    "C = df_test['Z1_Z2']/df_test['dist']\n",
    "df_test['C'] = C"
   ]
  },
  {
   "cell_type": "code",
   "execution_count": 18,
   "metadata": {},
   "outputs": [
    {
     "data": {
      "image/png": "[encoded data removed]",
      "text/plain": [
       "<Figure size 1440x720 with 8 Axes>"
      ]
     },
     "metadata": {},
     "output_type": "display_data"
    }
   ],
   "source": [
    "fig, axs = plt.subplots(2, 4, figsize=(20,10))\n",
    "row = col = 0\n",
    "\n",
    "for c_type in pd.unique(df_train['type']):\n",
    "    df = df_train.loc[df_train['type'] == c_type]\n",
    "    \n",
    "    x = np.array(df['C']).reshape(-1, 1)\n",
    "    y = np.array(df['scalar_coupling_constant']).reshape(-1, 1)\n",
    "    axs[row, col].plot(x, y, 'o')\n",
    "    \n",
    "    x = np.array(df['dist']).reshape(-1, 1)\n",
    "    axs[row, col].plot(1/x, y, 'o')\n",
    "    \n",
    "    axs[row, col].set_title(c_type)\n",
    "    for ax in axs.flat:\n",
    "        ax.set(xlabel='C, 1/dist', ylabel='coupling')\n",
    "        \n",
    "    col += 1\n",
    "    if col > 3:\n",
    "        col = 0\n",
    "        row = 1"
   ]
  },
  {
   "cell_type": "markdown",
   "metadata": {},
   "source": [
    "# Feature Engineering"
   ]
  },
  {
   "cell_type": "code",
   "execution_count": 19,
   "metadata": {},
   "outputs": [],
   "source": [
    "def reduce_mem_usage(df, verbose=True):\n",
    "    numerics = ['int16', 'int32', 'int64', 'float16', 'float32', 'float64']\n",
    "    start_mem = df.memory_usage().sum() / 1024**2    \n",
    "    for col in df.columns:\n",
    "        col_type = df[col].dtypes\n",
    "        if col_type in numerics:\n",
    "            c_min = df[col].min()\n",
    "            c_max = df[col].max()\n",
    "            if str(col_type)[:3] == 'int':\n",
    "                if c_min > np.iinfo(np.int8).min and c_max < np.iinfo(np.int8).max:\n",
    "                    df[col] = df[col].astype(np.int8)\n",
    "                elif c_min > np.iinfo(np.int16).min and c_max < np.iinfo(np.int16).max:\n",
    "                    df[col] = df[col].astype(np.int16)\n",
    "                elif c_min > np.iinfo(np.int32).min and c_max < np.iinfo(np.int32).max:\n",
    "                    df[col] = df[col].astype(np.int32)\n",
    "                elif c_min > np.iinfo(np.int64).min and c_max < np.iinfo(np.int64).max:\n",
    "                    df[col] = df[col].astype(np.int64)  \n",
    "            else:\n",
    "                if c_min > np.finfo(np.float16).min and c_max < np.finfo(np.float16).max:\n",
    "                    df[col] = df[col].astype(np.float16)\n",
    "                elif c_min > np.finfo(np.float32).min and c_max < np.finfo(np.float32).max:\n",
    "                    df[col] = df[col].astype(np.float32)\n",
    "                else:\n",
    "                    df[col] = df[col].astype(np.float64)    \n",
    "    end_mem = df.memory_usage().sum() / 1024**2\n",
    "    if verbose: \n",
    "        print('Mem. usage decreased to {:5.2f} Mb ({:.1f}% reduction)'.format(end_mem, 100 * (start_mem - end_mem) / start_mem))\n",
    "    \n",
    "    return df"
   ]
  },
  {
   "cell_type": "code",
   "execution_count": 20,
   "metadata": {},
   "outputs": [],
   "source": [
    "#feature engineering (borrowed features from https://www.kaggle.com/kabure/lightgbm-full-pipeline-model)\n",
    "def feature_engineering(df):\n",
    "    print(\"Starting Feature Engineering...\")\n",
    "    df['type_0'] = df['type'].apply(lambda x: x[0])\n",
    "    df['type_1'] = df['type'].apply(lambda x: x[1:])\n",
    "    df['molecule_couples'] = df.groupby('molecule_name')['id'].transform('count')\n",
    "    df['molecule_dist_mean'] = df.groupby('molecule_name')['dist'].transform('mean')\n",
    "    df['molecule_dist_min'] = df.groupby('molecule_name')['dist'].transform('min')\n",
    "    df['molecule_dist_max'] = df.groupby('molecule_name')['dist'].transform('max')\n",
    "    df['atom_0_couples_count'] = df.groupby(['molecule_name', 'atom_index_0'])['id'].transform('count')\n",
    "    df['atom_1_couples_count'] = df.groupby(['molecule_name', 'atom_index_1'])['id'].transform('count')\n",
    "    df[f'molecule_atom_index_0_x_1_std'] = df.groupby(['molecule_name', 'atom_index_0'])['x_1'].transform('std')\n",
    "    df[f'molecule_atom_index_0_y_1_mean'] = df.groupby(['molecule_name', 'atom_index_0'])['y_1'].transform('mean')\n",
    "    df[f'molecule_atom_index_0_y_1_mean_diff'] = df[f'molecule_atom_index_0_y_1_mean'] - df['y_1']\n",
    "    df[f'molecule_atom_index_0_y_1_mean_div'] = df[f'molecule_atom_index_0_y_1_mean'] / df['y_1']\n",
    "    df[f'molecule_atom_index_0_y_1_max'] = df.groupby(['molecule_name', 'atom_index_0'])['y_1'].transform('max')\n",
    "    df[f'molecule_atom_index_0_y_1_max_diff'] = df[f'molecule_atom_index_0_y_1_max'] - df['y_1']\n",
    "    df[f'molecule_atom_index_0_y_1_std'] = df.groupby(['molecule_name', 'atom_index_0'])['y_1'].transform('std')\n",
    "    df[f'molecule_atom_index_0_z_1_std'] = df.groupby(['molecule_name', 'atom_index_0'])['z_1'].transform('std')\n",
    "    df[f'molecule_atom_index_0_dist_mean'] = df.groupby(['molecule_name', 'atom_index_0'])['dist'].transform('mean')\n",
    "    df[f'molecule_atom_index_0_dist_mean_diff'] = df[f'molecule_atom_index_0_dist_mean'] - df['dist']\n",
    "    df[f'molecule_atom_index_0_dist_mean_div'] = df[f'molecule_atom_index_0_dist_mean'] / df['dist']\n",
    "    df[f'molecule_atom_index_0_dist_max'] = df.groupby(['molecule_name', 'atom_index_0'])['dist'].transform('max')\n",
    "    df[f'molecule_atom_index_0_dist_max_diff'] = df[f'molecule_atom_index_0_dist_max'] - df['dist']\n",
    "    df[f'molecule_atom_index_0_dist_max_div'] = df[f'molecule_atom_index_0_dist_max'] / df['dist']\n",
    "    df[f'molecule_atom_index_0_dist_min'] = df.groupby(['molecule_name', 'atom_index_0'])['dist'].transform('min')\n",
    "    df[f'molecule_atom_index_0_dist_min_diff'] = df[f'molecule_atom_index_0_dist_min'] - df['dist']\n",
    "    df[f'molecule_atom_index_0_dist_min_div'] = df[f'molecule_atom_index_0_dist_min'] / df['dist']\n",
    "    df[f'molecule_atom_index_0_dist_std'] = df.groupby(['molecule_name', 'atom_index_0'])['dist'].transform('std')\n",
    "    df[f'molecule_atom_index_0_dist_std_diff'] = df[f'molecule_atom_index_0_dist_std'] - df['dist']\n",
    "    df[f'molecule_atom_index_0_dist_std_div'] = df[f'molecule_atom_index_0_dist_std'] / df['dist']\n",
    "    df[f'molecule_atom_index_1_dist_mean'] = df.groupby(['molecule_name', 'atom_index_1'])['dist'].transform('mean')\n",
    "    df[f'molecule_atom_index_1_dist_mean_diff'] = df[f'molecule_atom_index_1_dist_mean'] - df['dist']\n",
    "    df[f'molecule_atom_index_1_dist_mean_div'] = df[f'molecule_atom_index_1_dist_mean'] / df['dist']\n",
    "    df[f'molecule_atom_index_1_dist_max'] = df.groupby(['molecule_name', 'atom_index_1'])['dist'].transform('max')\n",
    "    df[f'molecule_atom_index_1_dist_max_diff'] = df[f'molecule_atom_index_1_dist_max'] - df['dist']\n",
    "    df[f'molecule_atom_index_1_dist_max_div'] = df[f'molecule_atom_index_1_dist_max'] / df['dist']\n",
    "    df[f'molecule_atom_index_1_dist_min'] = df.groupby(['molecule_name', 'atom_index_1'])['dist'].transform('min')\n",
    "    df[f'molecule_atom_index_1_dist_min_diff'] = df[f'molecule_atom_index_1_dist_min'] - df['dist']\n",
    "    df[f'molecule_atom_index_1_dist_min_div'] = df[f'molecule_atom_index_1_dist_min'] / df['dist']\n",
    "    df[f'molecule_atom_index_1_dist_std'] = df.groupby(['molecule_name', 'atom_index_1'])['dist'].transform('std')\n",
    "    df[f'molecule_atom_index_1_dist_std_diff'] = df[f'molecule_atom_index_1_dist_std'] - df['dist']\n",
    "    df[f'molecule_atom_index_1_dist_std_div'] = df[f'molecule_atom_index_1_dist_std'] / df['dist']\n",
    "    df[f'molecule_atom_1_dist_mean'] = df.groupby(['molecule_name', 'atom_1'])['dist'].transform('mean')\n",
    "    df[f'molecule_atom_1_dist_min'] = df.groupby(['molecule_name', 'atom_1'])['dist'].transform('min')\n",
    "    df[f'molecule_atom_1_dist_min_diff'] = df[f'molecule_atom_1_dist_min'] - df['dist']\n",
    "    df[f'molecule_atom_1_dist_min_div'] = df[f'molecule_atom_1_dist_min'] / df['dist']\n",
    "    df[f'molecule_atom_1_dist_std'] = df.groupby(['molecule_name', 'atom_1'])['dist'].transform('std')\n",
    "    df[f'molecule_atom_1_dist_std_diff'] = df[f'molecule_atom_1_dist_std'] - df['dist']\n",
    "    df['dist_to_type_mean'] = df['dist'] / df.groupby('type')['dist'].transform('mean')\n",
    "    df['dist_to_type_0_mean'] = df['dist'] / df.groupby('type_0')['dist'].transform('mean')\n",
    "    df['dist_to_type_1_mean'] = df['dist'] / df.groupby('type_1')['dist'].transform('mean')\n",
    "    df[f'molecule_type_0_dist_std'] = df.groupby(['molecule_name', 'type_0'])['dist'].transform('std')\n",
    "    df[f'molecule_type_0_dist_std_diff'] = df[f'molecule_type_0_dist_std'] - df['dist']\n",
    "    df[f'molecule_type_1_dist_std'] = df.groupby(['molecule_name', 'type_1'])['dist'].transform('std')\n",
    "    df[f'molecule_type_1_dist_std_diff'] = df[f'molecule_type_1_dist_std'] - df['dist']\n",
    "    df[f'molecule_type_dist_mean'] = df.groupby(['molecule_name', 'type'])['dist'].transform('mean')\n",
    "    df[f'molecule_type_dist_mean_diff'] = df[f'molecule_type_dist_mean'] - df['dist']\n",
    "    df[f'molecule_type_dist_mean_div'] = df[f'molecule_type_dist_mean'] / df['dist']\n",
    "    df[f'molecule_type_dist_max'] = df.groupby(['molecule_name', 'type'])['dist'].transform('max')\n",
    "    df[f'molecule_type_dist_min'] = df.groupby(['molecule_name', 'type'])['dist'].transform('min')\n",
    "    df[f'molecule_type_dist_std'] = df.groupby(['molecule_name', 'type'])['dist'].transform('std')\n",
    "    df[f'molecule_type_dist_std_diff'] = df[f'molecule_type_dist_std'] - df['dist']\n",
    "    \n",
    "    df = reduce_mem_usage(df)\n",
    "    \n",
    "    return df"
   ]
  },
  {
   "cell_type": "code",
   "execution_count": 21,
   "metadata": {},
   "outputs": [
    {
     "name": "stdout",
     "output_type": "stream",
     "text": [
      "Starting Feature Engineering...\n",
      "Mem. usage decreased to 928.45 Mb (68.5% reduction)\n",
      "Starting Feature Engineering...\n",
      "Mem. usage decreased to 485.06 Mb (69.1% reduction)\n"
     ]
    }
   ],
   "source": [
    "df_train = feature_engineering(df_train)\n",
    "df_test = feature_engineering(df_test)"
   ]
  },
  {
   "cell_type": "code",
   "execution_count": 22,
   "metadata": {},
   "outputs": [],
   "source": [
    "def add_C_features(df):\n",
    "    df['molecule_C_mean'] = df.groupby('molecule_name')['C'].transform('mean')\n",
    "    df['molecule_C_min'] = df.groupby('molecule_name')['C'].transform('min')\n",
    "    df['molecule_C_max'] = df.groupby('molecule_name')['C'].transform('max')\n",
    "    df[f'molecule_atom_index_0_C_mean'] = df.groupby(['molecule_name', 'atom_index_0'])['C'].transform('mean')\n",
    "    df[f'molecule_atom_index_0_C_mean_diff'] = df[f'molecule_atom_index_0_C_mean'] - df['C']\n",
    "    df[f'molecule_atom_index_0_C_mean_div'] = df[f'molecule_atom_index_0_C_mean'] / df['C']\n",
    "    df[f'molecule_atom_index_0_C_max'] = df.groupby(['molecule_name', 'atom_index_0'])['C'].transform('max')\n",
    "    df[f'molecule_atom_index_0_C_max_diff'] = df[f'molecule_atom_index_0_C_max'] - df['C']\n",
    "    df[f'molecule_atom_index_0_C_max_div'] = df[f'molecule_atom_index_0_C_max'] / df['C']\n",
    "    df[f'molecule_atom_index_0_C_min'] = df.groupby(['molecule_name', 'atom_index_0'])['C'].transform('min')\n",
    "    df[f'molecule_atom_index_0_C_min_diff'] = df[f'molecule_atom_index_0_C_min'] - df['C']\n",
    "    df[f'molecule_atom_index_0_C_min_div'] = df[f'molecule_atom_index_0_C_min'] / df['C']\n",
    "    df[f'molecule_atom_index_0_C_std'] = df.groupby(['molecule_name', 'atom_index_0'])['C'].transform('std')\n",
    "    df[f'molecule_atom_index_0_C_std_diff'] = df[f'molecule_atom_index_0_C_std'] - df['C']\n",
    "    df[f'molecule_atom_index_0_C_std_div'] = df[f'molecule_atom_index_0_C_std'] / df['C']\n",
    "    df[f'molecule_atom_index_1_C_mean'] = df.groupby(['molecule_name', 'atom_index_1'])['C'].transform('mean')\n",
    "    df[f'molecule_atom_index_1_C_mean_diff'] = df[f'molecule_atom_index_1_C_mean'] - df['C']\n",
    "    df[f'molecule_atom_index_1_C_mean_div'] = df[f'molecule_atom_index_1_C_mean'] / df['C']\n",
    "    df[f'molecule_atom_index_1_C_max'] = df.groupby(['molecule_name', 'atom_index_1'])['C'].transform('max')\n",
    "    df[f'molecule_atom_index_1_C_max_diff'] = df[f'molecule_atom_index_1_C_max'] - df['C']\n",
    "    df[f'molecule_atom_index_1_C_max_div'] = df[f'molecule_atom_index_1_C_max'] / df['C']\n",
    "    df[f'molecule_atom_index_1_C_min'] = df.groupby(['molecule_name', 'atom_index_1'])['C'].transform('min')\n",
    "    df[f'molecule_atom_index_1_C_min_diff'] = df[f'molecule_atom_index_1_C_min'] - df['C']\n",
    "    df[f'molecule_atom_index_1_C_min_div'] = df[f'molecule_atom_index_1_C_min'] / df['C']\n",
    "    df[f'molecule_atom_index_1_C_std'] = df.groupby(['molecule_name', 'atom_index_1'])['C'].transform('std')\n",
    "    df[f'molecule_atom_index_1_C_std_diff'] = df[f'molecule_atom_index_1_C_std'] - df['C']\n",
    "    df[f'molecule_atom_index_1_C_std_div'] = df[f'molecule_atom_index_1_C_std'] / df['C']\n",
    "    df[f'molecule_atom_1_C_mean'] = df.groupby(['molecule_name', 'atom_1'])['C'].transform('mean')\n",
    "    df[f'molecule_atom_1_C_min'] = df.groupby(['molecule_name', 'atom_1'])['C'].transform('min')\n",
    "    df[f'molecule_atom_1_C_min_diff'] = df[f'molecule_atom_1_C_min'] - df['C']\n",
    "    df[f'molecule_atom_1_C_min_div'] = df[f'molecule_atom_1_C_min'] / df['C']\n",
    "    df[f'molecule_atom_1_C_std'] = df.groupby(['molecule_name', 'atom_1'])['C'].transform('std')\n",
    "    df[f'molecule_atom_1_C_std_diff'] = df[f'molecule_atom_1_C_std'] - df['C']\n",
    "    df['C_to_type_mean'] = df['C'] / df.groupby('type')['C'].transform('mean')\n",
    "    df['C_to_type_0_mean'] = df['C'] / df.groupby('type_0')['C'].transform('mean')\n",
    "    df[f'molecule_type_0_C_std'] = df.groupby(['molecule_name', 'type_0'])['C'].transform('std')\n",
    "    df[f'molecule_type_0_C_std_diff'] = df[f'molecule_type_0_C_std'] - df['C']\n",
    "    df[f'molecule_type_C_mean'] = df.groupby(['molecule_name', 'type'])['C'].transform('mean')\n",
    "    df[f'molecule_type_C_mean_diff'] = df[f'molecule_type_C_mean'] - df['C']\n",
    "    df[f'molecule_type_C_mean_div'] = df[f'molecule_type_C_mean'] / df['C']\n",
    "    df[f'molecule_type_C_max'] = df.groupby(['molecule_name', 'type'])['C'].transform('max')\n",
    "    df[f'molecule_type_C_min'] = df.groupby(['molecule_name', 'type'])['C'].transform('min')\n",
    "    df[f'molecule_type_C_std'] = df.groupby(['molecule_name', 'type'])['C'].transform('std')\n",
    "    df[f'molecule_type_C_std_diff'] = df[f'molecule_type_C_std'] - df['C']\n",
    "    return df"
   ]
  },
  {
   "cell_type": "code",
   "execution_count": 23,
   "metadata": {},
   "outputs": [],
   "source": [
    "df_train = add_C_features(df_train)\n",
    "df_test = add_C_features(df_test)"
   ]
  },
  {
   "cell_type": "code",
   "execution_count": 24,
   "metadata": {},
   "outputs": [
    {
     "name": "stdout",
     "output_type": "stream",
     "text": [
      "Mem. usage decreased to 355.26 Mb (67.5% reduction)\n"
     ]
    }
   ],
   "source": [
    "# load qm9 data\n",
    "df_qm9 = pd.read_pickle('data.covs.pickle')\n",
    "\n",
    "to_drop_qm9 = ['type', 'linear', 'atom_index_0', 'atom_index_1', 'scalar_coupling_constant', 'U', 'G', 'H', 'mulliken_mean', 'r2', 'U0']\n",
    "df_qm9 = df_qm9.drop(columns = to_drop_qm9, axis=1)\n",
    "df_qm9 = reduce_mem_usage(df_qm9)\n",
    "\n",
    "df_train = pd.merge(df_train, df_qm9, how='left', on=['molecule_name','id'])\n",
    "df_test = pd.merge(df_test, df_qm9, how='left', on=['molecule_name','id'])"
   ]
  },
  {
   "cell_type": "code",
   "execution_count": 25,
   "metadata": {},
   "outputs": [],
   "source": [
    "good_columns = ['molecule_atom_index_0_dist_min','molecule_atom_index_0_dist_max',\n",
    "                'molecule_atom_index_1_dist_min','molecule_atom_index_0_dist_mean',\n",
    "                'molecule_atom_index_0_dist_std','dist','molecule_atom_index_1_dist_std',\n",
    "                'molecule_atom_index_1_dist_max','molecule_atom_index_1_dist_mean',\n",
    "                'molecule_atom_index_0_dist_max_diff','molecule_atom_index_0_dist_max_div',\n",
    "                'molecule_atom_index_0_dist_std_diff','molecule_atom_index_0_dist_std_div',\n",
    "                'atom_0_couples_count','molecule_atom_index_0_dist_min_div',\n",
    "                'molecule_atom_index_1_dist_std_diff','molecule_atom_index_0_dist_mean_div',\n",
    "                'atom_1_couples_count','molecule_atom_index_0_dist_mean_diff',\n",
    "                'molecule_couples','atom_index_1','molecule_dist_mean',\n",
    "                'molecule_atom_index_1_dist_max_diff', 'molecule_atom_index_0_y_1_std',\n",
    "                'molecule_atom_index_1_dist_mean_diff','molecule_atom_index_1_dist_std_div',\n",
    "                'molecule_atom_index_1_dist_mean_div', 'molecule_atom_index_1_dist_min_diff',\n",
    "                'molecule_atom_index_1_dist_min_div','molecule_atom_index_1_dist_max_div',\n",
    "                'molecule_atom_index_0_z_1_std', 'y_0','molecule_type_dist_std_diff',\n",
    "                'molecule_atom_1_dist_min_diff','molecule_atom_index_0_x_1_std','molecule_dist_min',\n",
    "                'molecule_atom_index_0_dist_min_diff', 'molecule_atom_index_0_y_1_mean_diff',\n",
    "                'molecule_type_dist_min','molecule_atom_1_dist_min_div','atom_index_0',\n",
    "                'molecule_dist_max','molecule_atom_1_dist_std_diff', 'molecule_type_dist_max',\n",
    "                'molecule_atom_index_0_y_1_max_diff','molecule_type_0_dist_std_diff',\n",
    "                'molecule_type_dist_mean_diff','molecule_atom_1_dist_mean',\n",
    "                'molecule_atom_index_0_y_1_mean_div','molecule_type_dist_mean_div','type', 'scalar_coupling_constant'] + ['rc_A', \n",
    "                'rc_B', 'rc_C', 'mu', 'alpha', 'homo', 'lumo', 'gap', 'zpve', 'Cv', 'freqs_min', 'freqs_max',\n",
    "                'freqs_mean', 'mulliken_min', 'mulliken_max', 'mulliken_atom_0', 'mulliken_atom_1'] + ['atomic_num_0',\n",
    "                'atomic_num_1'] + ['molecule_atom_index_0_C_min','molecule_atom_index_0_C_max',\n",
    "                'molecule_atom_index_1_C_min','molecule_atom_index_0_C_mean',\n",
    "                'molecule_atom_index_0_C_std','C','molecule_atom_index_1_C_std',\n",
    "                'molecule_atom_index_1_C_max','molecule_atom_index_1_C_mean',\n",
    "                'molecule_atom_index_0_C_max_diff','molecule_atom_index_0_C_max_div',\n",
    "                'molecule_atom_index_0_C_std_diff','molecule_atom_index_0_C_std_div',\n",
    "                'atom_0_couples_count','molecule_atom_index_0_C_min_div',\n",
    "                'molecule_atom_index_1_C_std_diff','molecule_atom_index_0_C_mean_div',\n",
    "                'atom_1_couples_count','molecule_atom_index_0_C_mean_diff', 'molecule_C_mean',\n",
    "                'molecule_atom_index_1_C_max_diff', 'molecule_atom_index_1_C_mean_diff','molecule_atom_index_1_C_std_div',\n",
    "                'molecule_atom_index_1_C_mean_div', 'molecule_atom_index_1_C_min_diff',\n",
    "                'molecule_atom_index_1_C_min_div','molecule_atom_index_1_C_max_div',\n",
    "                'molecule_atom_index_0_z_1_std', 'y_0','molecule_type_C_std_diff',\n",
    "                'molecule_atom_1_C_min_diff', 'molecule_atom_index_0_C_min_diff', 'molecule_type_C_min','molecule_atom_1_C_min_div',\n",
    "                'molecule_C_max','molecule_atom_1_C_std_diff', 'molecule_type_C_max', 'molecule_type_0_C_std_diff',\n",
    "                'molecule_type_C_mean_diff','molecule_atom_1_C_mean', 'molecule_type_C_mean_div'] + ['rc_A', \n",
    "                'rc_B', 'rc_C', 'mu', 'alpha', 'homo', 'lumo', 'gap', 'zpve', 'Cv', 'freqs_min', 'freqs_max',\n",
    "                'freqs_mean', 'mulliken_min', 'mulliken_max', 'mulliken_atom_0', 'mulliken_atom_1'] + ['atomic_num_0',\n",
    "                'atomic_num_1', 'C', 'molecule_type_C_mean']"
   ]
  },
  {
   "cell_type": "code",
   "execution_count": 34,
   "metadata": {},
   "outputs": [
    {
     "data": {
      "text/plain": [
       "(4658147, 144)"
      ]
     },
     "execution_count": 34,
     "metadata": {},
     "output_type": "execute_result"
    }
   ],
   "source": [
    "df_train.shape"
   ]
  },
  {
   "cell_type": "code",
   "execution_count": null,
   "metadata": {},
   "outputs": [],
   "source": [
    "#df_train[good_columns].mean()"
   ]
  },
  {
   "cell_type": "code",
   "execution_count": null,
   "metadata": {},
   "outputs": [],
   "source": [
    "#plt.bar(df_train[good_columns].mean())"
   ]
  },
  {
   "cell_type": "code",
   "execution_count": 29,
   "metadata": {},
   "outputs": [],
   "source": [
    "#encode labels\n",
    "for f in ['atom_0', 'atom_1', 'type_0', 'type_1', 'type', 'atom_index_0', 'atom_index_1']:\n",
    "    lbl = LabelEncoder()\n",
    "    lbl.fit(list(df_train[f].values) + list(df_test[f].values))\n",
    "    df_train[f] = lbl.transform(list(df_train[f].values))\n",
    "    df_test[f] = lbl.transform(list(df_test[f].values))"
   ]
  },
  {
   "cell_type": "code",
   "execution_count": 6,
   "metadata": {},
   "outputs": [
    {
     "data": {
      "text/html": [
       "<div>\n",
       "<style scoped>\n",
       "    .dataframe tbody tr th:only-of-type {\n",
       "        vertical-align: middle;\n",
       "    }\n",
       "\n",
       "    .dataframe tbody tr th {\n",
       "        vertical-align: top;\n",
       "    }\n",
       "\n",
       "    .dataframe thead th {\n",
       "        text-align: right;\n",
       "    }\n",
       "</style>\n",
       "<table border=\"1\" class=\"dataframe\">\n",
       "  <thead>\n",
       "    <tr style=\"text-align: right;\">\n",
       "      <th></th>\n",
       "      <th>id</th>\n",
       "      <th>atom_index_0</th>\n",
       "      <th>atom_index_1</th>\n",
       "      <th>scalar_coupling_constant</th>\n",
       "      <th>x_0</th>\n",
       "      <th>y_0</th>\n",
       "      <th>z_0</th>\n",
       "      <th>x_1</th>\n",
       "      <th>y_1</th>\n",
       "      <th>z_1</th>\n",
       "    </tr>\n",
       "  </thead>\n",
       "  <tbody>\n",
       "    <tr>\n",
       "      <th>id</th>\n",
       "      <td>1.000000</td>\n",
       "      <td>0.200476</td>\n",
       "      <td>0.056080</td>\n",
       "      <td>0.006968</td>\n",
       "      <td>0.063553</td>\n",
       "      <td>0.184992</td>\n",
       "      <td>0.028264</td>\n",
       "      <td>0.087629</td>\n",
       "      <td>0.229034</td>\n",
       "      <td>0.030272</td>\n",
       "    </tr>\n",
       "    <tr>\n",
       "      <th>atom_index_0</th>\n",
       "      <td>0.200476</td>\n",
       "      <td>1.000000</td>\n",
       "      <td>0.145740</td>\n",
       "      <td>0.018839</td>\n",
       "      <td>0.020848</td>\n",
       "      <td>0.521941</td>\n",
       "      <td>0.078614</td>\n",
       "      <td>0.030623</td>\n",
       "      <td>0.366010</td>\n",
       "      <td>0.021815</td>\n",
       "    </tr>\n",
       "    <tr>\n",
       "      <th>atom_index_1</th>\n",
       "      <td>0.056080</td>\n",
       "      <td>0.145740</td>\n",
       "      <td>1.000000</td>\n",
       "      <td>0.218989</td>\n",
       "      <td>0.008809</td>\n",
       "      <td>0.104602</td>\n",
       "      <td>0.005917</td>\n",
       "      <td>0.000755</td>\n",
       "      <td>0.179888</td>\n",
       "      <td>0.056477</td>\n",
       "    </tr>\n",
       "    <tr>\n",
       "      <th>scalar_coupling_constant</th>\n",
       "      <td>0.006968</td>\n",
       "      <td>0.018839</td>\n",
       "      <td>0.218989</td>\n",
       "      <td>1.000000</td>\n",
       "      <td>0.006015</td>\n",
       "      <td>0.013119</td>\n",
       "      <td>0.004807</td>\n",
       "      <td>0.005132</td>\n",
       "      <td>0.021189</td>\n",
       "      <td>0.007792</td>\n",
       "    </tr>\n",
       "    <tr>\n",
       "      <th>x_0</th>\n",
       "      <td>0.063553</td>\n",
       "      <td>0.020848</td>\n",
       "      <td>0.008809</td>\n",
       "      <td>0.006015</td>\n",
       "      <td>1.000000</td>\n",
       "      <td>0.137042</td>\n",
       "      <td>0.009599</td>\n",
       "      <td>0.637212</td>\n",
       "      <td>0.172400</td>\n",
       "      <td>0.022365</td>\n",
       "    </tr>\n",
       "    <tr>\n",
       "      <th>y_0</th>\n",
       "      <td>0.184992</td>\n",
       "      <td>0.521941</td>\n",
       "      <td>0.104602</td>\n",
       "      <td>0.013119</td>\n",
       "      <td>0.137042</td>\n",
       "      <td>1.000000</td>\n",
       "      <td>0.010514</td>\n",
       "      <td>0.157436</td>\n",
       "      <td>0.721484</td>\n",
       "      <td>0.018929</td>\n",
       "    </tr>\n",
       "    <tr>\n",
       "      <th>z_0</th>\n",
       "      <td>0.028264</td>\n",
       "      <td>0.078614</td>\n",
       "      <td>0.005917</td>\n",
       "      <td>0.004807</td>\n",
       "      <td>0.009599</td>\n",
       "      <td>0.010514</td>\n",
       "      <td>1.000000</td>\n",
       "      <td>0.004632</td>\n",
       "      <td>0.016645</td>\n",
       "      <td>0.540027</td>\n",
       "    </tr>\n",
       "    <tr>\n",
       "      <th>x_1</th>\n",
       "      <td>0.087629</td>\n",
       "      <td>0.030623</td>\n",
       "      <td>0.000755</td>\n",
       "      <td>0.005132</td>\n",
       "      <td>0.637212</td>\n",
       "      <td>0.157436</td>\n",
       "      <td>0.004632</td>\n",
       "      <td>1.000000</td>\n",
       "      <td>0.193026</td>\n",
       "      <td>0.011105</td>\n",
       "    </tr>\n",
       "    <tr>\n",
       "      <th>y_1</th>\n",
       "      <td>0.229034</td>\n",
       "      <td>0.366010</td>\n",
       "      <td>0.179888</td>\n",
       "      <td>0.021189</td>\n",
       "      <td>0.172400</td>\n",
       "      <td>0.721484</td>\n",
       "      <td>0.016645</td>\n",
       "      <td>0.193026</td>\n",
       "      <td>1.000000</td>\n",
       "      <td>0.029796</td>\n",
       "    </tr>\n",
       "    <tr>\n",
       "      <th>z_1</th>\n",
       "      <td>0.030272</td>\n",
       "      <td>0.021815</td>\n",
       "      <td>0.056477</td>\n",
       "      <td>0.007792</td>\n",
       "      <td>0.022365</td>\n",
       "      <td>0.018929</td>\n",
       "      <td>0.540027</td>\n",
       "      <td>0.011105</td>\n",
       "      <td>0.029796</td>\n",
       "      <td>1.000000</td>\n",
       "    </tr>\n",
       "  </tbody>\n",
       "</table>\n",
       "</div>"
      ],
      "text/plain": [
       "                                id  atom_index_0  atom_index_1  \\\n",
       "id                        1.000000      0.200476      0.056080   \n",
       "atom_index_0              0.200476      1.000000      0.145740   \n",
       "atom_index_1              0.056080      0.145740      1.000000   \n",
       "scalar_coupling_constant  0.006968      0.018839      0.218989   \n",
       "x_0                       0.063553      0.020848      0.008809   \n",
       "y_0                       0.184992      0.521941      0.104602   \n",
       "z_0                       0.028264      0.078614      0.005917   \n",
       "x_1                       0.087629      0.030623      0.000755   \n",
       "y_1                       0.229034      0.366010      0.179888   \n",
       "z_1                       0.030272      0.021815      0.056477   \n",
       "\n",
       "                          scalar_coupling_constant       x_0       y_0  \\\n",
       "id                                        0.006968  0.063553  0.184992   \n",
       "atom_index_0                              0.018839  0.020848  0.521941   \n",
       "atom_index_1                              0.218989  0.008809  0.104602   \n",
       "scalar_coupling_constant                  1.000000  0.006015  0.013119   \n",
       "x_0                                       0.006015  1.000000  0.137042   \n",
       "y_0                                       0.013119  0.137042  1.000000   \n",
       "z_0                                       0.004807  0.009599  0.010514   \n",
       "x_1                                       0.005132  0.637212  0.157436   \n",
       "y_1                                       0.021189  0.172400  0.721484   \n",
       "z_1                                       0.007792  0.022365  0.018929   \n",
       "\n",
       "                               z_0       x_1       y_1       z_1  \n",
       "id                        0.028264  0.087629  0.229034  0.030272  \n",
       "atom_index_0              0.078614  0.030623  0.366010  0.021815  \n",
       "atom_index_1              0.005917  0.000755  0.179888  0.056477  \n",
       "scalar_coupling_constant  0.004807  0.005132  0.021189  0.007792  \n",
       "x_0                       0.009599  0.637212  0.172400  0.022365  \n",
       "y_0                       0.010514  0.157436  0.721484  0.018929  \n",
       "z_0                       1.000000  0.004632  0.016645  0.540027  \n",
       "x_1                       0.004632  1.000000  0.193026  0.011105  \n",
       "y_1                       0.016645  0.193026  1.000000  0.029796  \n",
       "z_1                       0.540027  0.011105  0.029796  1.000000  "
      ]
     },
     "execution_count": 6,
     "metadata": {},
     "output_type": "execute_result"
    }
   ],
   "source": [
    "# find correlated features\n",
    "corr_matrix = df_train[df_train['scalar_coupling_constant'].notnull()].corr().abs()\n",
    "upper = corr_matrix.where(np.triu(np.ones(corr_matrix.shape), k=1).astype(np.bool))\n",
    "corr_matrix#[['scalar_coupling_constant']].T"
   ]
  },
  {
   "cell_type": "code",
   "execution_count": 7,
   "metadata": {},
   "outputs": [],
   "source": [
    "correlation = df_train.corr()"
   ]
  },
  {
   "cell_type": "code",
   "execution_count": 12,
   "metadata": {},
   "outputs": [
    {
     "data": {
      "text/html": [
       "<style  type=\"text/css\" >\n",
       "    #T_30cb85f8_d31c_11e9_8aa1_186590d84a75row0_col0 {\n",
       "            background-color:  #b40426;\n",
       "        }    #T_30cb85f8_d31c_11e9_8aa1_186590d84a75row0_col1 {\n",
       "            background-color:  #7699f6;\n",
       "        }    #T_30cb85f8_d31c_11e9_8aa1_186590d84a75row0_col2 {\n",
       "            background-color:  #4b64d5;\n",
       "        }    #T_30cb85f8_d31c_11e9_8aa1_186590d84a75row0_col3 {\n",
       "            background-color:  #3b4cc0;\n",
       "        }    #T_30cb85f8_d31c_11e9_8aa1_186590d84a75row0_col4 {\n",
       "            background-color:  #4b64d5;\n",
       "        }    #T_30cb85f8_d31c_11e9_8aa1_186590d84a75row0_col5 {\n",
       "            background-color:  #7396f5;\n",
       "        }    #T_30cb85f8_d31c_11e9_8aa1_186590d84a75row0_col6 {\n",
       "            background-color:  #4257c9;\n",
       "        }    #T_30cb85f8_d31c_11e9_8aa1_186590d84a75row0_col7 {\n",
       "            background-color:  #5572df;\n",
       "        }    #T_30cb85f8_d31c_11e9_8aa1_186590d84a75row0_col8 {\n",
       "            background-color:  #81a4fb;\n",
       "        }    #T_30cb85f8_d31c_11e9_8aa1_186590d84a75row0_col9 {\n",
       "            background-color:  #4055c8;\n",
       "        }    #T_30cb85f8_d31c_11e9_8aa1_186590d84a75row1_col0 {\n",
       "            background-color:  #799cf8;\n",
       "        }    #T_30cb85f8_d31c_11e9_8aa1_186590d84a75row1_col1 {\n",
       "            background-color:  #b40426;\n",
       "        }    #T_30cb85f8_d31c_11e9_8aa1_186590d84a75row1_col2 {\n",
       "            background-color:  #688aef;\n",
       "        }    #T_30cb85f8_d31c_11e9_8aa1_186590d84a75row1_col3 {\n",
       "            background-color:  #3e51c5;\n",
       "        }    #T_30cb85f8_d31c_11e9_8aa1_186590d84a75row1_col4 {\n",
       "            background-color:  #3e51c5;\n",
       "        }    #T_30cb85f8_d31c_11e9_8aa1_186590d84a75row1_col5 {\n",
       "            background-color:  #e1dad6;\n",
       "        }    #T_30cb85f8_d31c_11e9_8aa1_186590d84a75row1_col6 {\n",
       "            background-color:  #516ddb;\n",
       "        }    #T_30cb85f8_d31c_11e9_8aa1_186590d84a75row1_col7 {\n",
       "            background-color:  #4358cb;\n",
       "        }    #T_30cb85f8_d31c_11e9_8aa1_186590d84a75row1_col8 {\n",
       "            background-color:  #b1cbfc;\n",
       "        }    #T_30cb85f8_d31c_11e9_8aa1_186590d84a75row1_col9 {\n",
       "            background-color:  #3e51c5;\n",
       "        }    #T_30cb85f8_d31c_11e9_8aa1_186590d84a75row2_col0 {\n",
       "            background-color:  #4961d2;\n",
       "        }    #T_30cb85f8_d31c_11e9_8aa1_186590d84a75row2_col1 {\n",
       "            background-color:  #6384eb;\n",
       "        }    #T_30cb85f8_d31c_11e9_8aa1_186590d84a75row2_col2 {\n",
       "            background-color:  #b40426;\n",
       "        }    #T_30cb85f8_d31c_11e9_8aa1_186590d84a75row2_col3 {\n",
       "            background-color:  #81a4fb;\n",
       "        }    #T_30cb85f8_d31c_11e9_8aa1_186590d84a75row2_col4 {\n",
       "            background-color:  #3b4cc0;\n",
       "        }    #T_30cb85f8_d31c_11e9_8aa1_186590d84a75row2_col5 {\n",
       "            background-color:  #5875e1;\n",
       "        }    #T_30cb85f8_d31c_11e9_8aa1_186590d84a75row2_col6 {\n",
       "            background-color:  #3b4cc0;\n",
       "        }    #T_30cb85f8_d31c_11e9_8aa1_186590d84a75row2_col7 {\n",
       "            background-color:  #3b4cc0;\n",
       "        }    #T_30cb85f8_d31c_11e9_8aa1_186590d84a75row2_col8 {\n",
       "            background-color:  #6f92f3;\n",
       "        }    #T_30cb85f8_d31c_11e9_8aa1_186590d84a75row2_col9 {\n",
       "            background-color:  #4961d2;\n",
       "        }    #T_30cb85f8_d31c_11e9_8aa1_186590d84a75row3_col0 {\n",
       "            background-color:  #3b4cc0;\n",
       "        }    #T_30cb85f8_d31c_11e9_8aa1_186590d84a75row3_col1 {\n",
       "            background-color:  #3b4cc0;\n",
       "        }    #T_30cb85f8_d31c_11e9_8aa1_186590d84a75row3_col2 {\n",
       "            background-color:  #81a4fb;\n",
       "        }    #T_30cb85f8_d31c_11e9_8aa1_186590d84a75row3_col3 {\n",
       "            background-color:  #b40426;\n",
       "        }    #T_30cb85f8_d31c_11e9_8aa1_186590d84a75row3_col4 {\n",
       "            background-color:  #3b4cc0;\n",
       "        }    #T_30cb85f8_d31c_11e9_8aa1_186590d84a75row3_col5 {\n",
       "            background-color:  #3b4cc0;\n",
       "        }    #T_30cb85f8_d31c_11e9_8aa1_186590d84a75row3_col6 {\n",
       "            background-color:  #3b4cc0;\n",
       "        }    #T_30cb85f8_d31c_11e9_8aa1_186590d84a75row3_col7 {\n",
       "            background-color:  #3c4ec2;\n",
       "        }    #T_30cb85f8_d31c_11e9_8aa1_186590d84a75row3_col8 {\n",
       "            background-color:  #3c4ec2;\n",
       "        }    #T_30cb85f8_d31c_11e9_8aa1_186590d84a75row3_col9 {\n",
       "            background-color:  #3b4cc0;\n",
       "        }    #T_30cb85f8_d31c_11e9_8aa1_186590d84a75row4_col0 {\n",
       "            background-color:  #4b64d5;\n",
       "        }    #T_30cb85f8_d31c_11e9_8aa1_186590d84a75row4_col1 {\n",
       "            background-color:  #3b4cc0;\n",
       "        }    #T_30cb85f8_d31c_11e9_8aa1_186590d84a75row4_col2 {\n",
       "            background-color:  #3d50c3;\n",
       "        }    #T_30cb85f8_d31c_11e9_8aa1_186590d84a75row4_col3 {\n",
       "            background-color:  #3b4cc0;\n",
       "        }    #T_30cb85f8_d31c_11e9_8aa1_186590d84a75row4_col4 {\n",
       "            background-color:  #b40426;\n",
       "        }    #T_30cb85f8_d31c_11e9_8aa1_186590d84a75row4_col5 {\n",
       "            background-color:  #6282ea;\n",
       "        }    #T_30cb85f8_d31c_11e9_8aa1_186590d84a75row4_col6 {\n",
       "            background-color:  #3c4ec2;\n",
       "        }    #T_30cb85f8_d31c_11e9_8aa1_186590d84a75row4_col7 {\n",
       "            background-color:  #f5c0a7;\n",
       "        }    #T_30cb85f8_d31c_11e9_8aa1_186590d84a75row4_col8 {\n",
       "            background-color:  #6c8ff1;\n",
       "        }    #T_30cb85f8_d31c_11e9_8aa1_186590d84a75row4_col9 {\n",
       "            background-color:  #3e51c5;\n",
       "        }    #T_30cb85f8_d31c_11e9_8aa1_186590d84a75row5_col0 {\n",
       "            background-color:  #7396f5;\n",
       "        }    #T_30cb85f8_d31c_11e9_8aa1_186590d84a75row5_col1 {\n",
       "            background-color:  #e0dbd8;\n",
       "        }    #T_30cb85f8_d31c_11e9_8aa1_186590d84a75row5_col2 {\n",
       "            background-color:  #5a78e4;\n",
       "        }    #T_30cb85f8_d31c_11e9_8aa1_186590d84a75row5_col3 {\n",
       "            background-color:  #3d50c3;\n",
       "        }    #T_30cb85f8_d31c_11e9_8aa1_186590d84a75row5_col4 {\n",
       "            background-color:  #6384eb;\n",
       "        }    #T_30cb85f8_d31c_11e9_8aa1_186590d84a75row5_col5 {\n",
       "            background-color:  #b40426;\n",
       "        }    #T_30cb85f8_d31c_11e9_8aa1_186590d84a75row5_col6 {\n",
       "            background-color:  #3c4ec2;\n",
       "        }    #T_30cb85f8_d31c_11e9_8aa1_186590d84a75row5_col7 {\n",
       "            background-color:  #6c8ff1;\n",
       "        }    #T_30cb85f8_d31c_11e9_8aa1_186590d84a75row5_col8 {\n",
       "            background-color:  #f7a688;\n",
       "        }    #T_30cb85f8_d31c_11e9_8aa1_186590d84a75row5_col9 {\n",
       "            background-color:  #3d50c3;\n",
       "        }    #T_30cb85f8_d31c_11e9_8aa1_186590d84a75row6_col0 {\n",
       "            background-color:  #4055c8;\n",
       "        }    #T_30cb85f8_d31c_11e9_8aa1_186590d84a75row6_col1 {\n",
       "            background-color:  #4c66d6;\n",
       "        }    #T_30cb85f8_d31c_11e9_8aa1_186590d84a75row6_col2 {\n",
       "            background-color:  #3c4ec2;\n",
       "        }    #T_30cb85f8_d31c_11e9_8aa1_186590d84a75row6_col3 {\n",
       "            background-color:  #3b4cc0;\n",
       "        }    #T_30cb85f8_d31c_11e9_8aa1_186590d84a75row6_col4 {\n",
       "            background-color:  #3b4cc0;\n",
       "        }    #T_30cb85f8_d31c_11e9_8aa1_186590d84a75row6_col5 {\n",
       "            background-color:  #3b4cc0;\n",
       "        }    #T_30cb85f8_d31c_11e9_8aa1_186590d84a75row6_col6 {\n",
       "            background-color:  #b40426;\n",
       "        }    #T_30cb85f8_d31c_11e9_8aa1_186590d84a75row6_col7 {\n",
       "            background-color:  #3b4cc0;\n",
       "        }    #T_30cb85f8_d31c_11e9_8aa1_186590d84a75row6_col8 {\n",
       "            background-color:  #3b4cc0;\n",
       "        }    #T_30cb85f8_d31c_11e9_8aa1_186590d84a75row6_col9 {\n",
       "            background-color:  #e6d7cf;\n",
       "        }    #T_30cb85f8_d31c_11e9_8aa1_186590d84a75row7_col0 {\n",
       "            background-color:  #536edd;\n",
       "        }    #T_30cb85f8_d31c_11e9_8aa1_186590d84a75row7_col1 {\n",
       "            background-color:  #3e51c5;\n",
       "        }    #T_30cb85f8_d31c_11e9_8aa1_186590d84a75row7_col2 {\n",
       "            background-color:  #3b4cc0;\n",
       "        }    #T_30cb85f8_d31c_11e9_8aa1_186590d84a75row7_col3 {\n",
       "            background-color:  #3b4cc0;\n",
       "        }    #T_30cb85f8_d31c_11e9_8aa1_186590d84a75row7_col4 {\n",
       "            background-color:  #f5c1a9;\n",
       "        }    #T_30cb85f8_d31c_11e9_8aa1_186590d84a75row7_col5 {\n",
       "            background-color:  #6a8bef;\n",
       "        }    #T_30cb85f8_d31c_11e9_8aa1_186590d84a75row7_col6 {\n",
       "            background-color:  #3b4cc0;\n",
       "        }    #T_30cb85f8_d31c_11e9_8aa1_186590d84a75row7_col7 {\n",
       "            background-color:  #b40426;\n",
       "        }    #T_30cb85f8_d31c_11e9_8aa1_186590d84a75row7_col8 {\n",
       "            background-color:  #7396f5;\n",
       "        }    #T_30cb85f8_d31c_11e9_8aa1_186590d84a75row7_col9 {\n",
       "            background-color:  #3b4cc0;\n",
       "        }    #T_30cb85f8_d31c_11e9_8aa1_186590d84a75row8_col0 {\n",
       "            background-color:  #84a7fc;\n",
       "        }    #T_30cb85f8_d31c_11e9_8aa1_186590d84a75row8_col1 {\n",
       "            background-color:  #b1cbfc;\n",
       "        }    #T_30cb85f8_d31c_11e9_8aa1_186590d84a75row8_col2 {\n",
       "            background-color:  #7396f5;\n",
       "        }    #T_30cb85f8_d31c_11e9_8aa1_186590d84a75row8_col3 {\n",
       "            background-color:  #3f53c6;\n",
       "        }    #T_30cb85f8_d31c_11e9_8aa1_186590d84a75row8_col4 {\n",
       "            background-color:  #6f92f3;\n",
       "        }    #T_30cb85f8_d31c_11e9_8aa1_186590d84a75row8_col5 {\n",
       "            background-color:  #f7a688;\n",
       "        }    #T_30cb85f8_d31c_11e9_8aa1_186590d84a75row8_col6 {\n",
       "            background-color:  #3e51c5;\n",
       "        }    #T_30cb85f8_d31c_11e9_8aa1_186590d84a75row8_col7 {\n",
       "            background-color:  #799cf8;\n",
       "        }    #T_30cb85f8_d31c_11e9_8aa1_186590d84a75row8_col8 {\n",
       "            background-color:  #b40426;\n",
       "        }    #T_30cb85f8_d31c_11e9_8aa1_186590d84a75row8_col9 {\n",
       "            background-color:  #4055c8;\n",
       "        }    #T_30cb85f8_d31c_11e9_8aa1_186590d84a75row9_col0 {\n",
       "            background-color:  #4257c9;\n",
       "        }    #T_30cb85f8_d31c_11e9_8aa1_186590d84a75row9_col1 {\n",
       "            background-color:  #3b4cc0;\n",
       "        }    #T_30cb85f8_d31c_11e9_8aa1_186590d84a75row9_col2 {\n",
       "            background-color:  #4b64d5;\n",
       "        }    #T_30cb85f8_d31c_11e9_8aa1_186590d84a75row9_col3 {\n",
       "            background-color:  #3b4cc0;\n",
       "        }    #T_30cb85f8_d31c_11e9_8aa1_186590d84a75row9_col4 {\n",
       "            background-color:  #3f53c6;\n",
       "        }    #T_30cb85f8_d31c_11e9_8aa1_186590d84a75row9_col5 {\n",
       "            background-color:  #3d50c3;\n",
       "        }    #T_30cb85f8_d31c_11e9_8aa1_186590d84a75row9_col6 {\n",
       "            background-color:  #e6d7cf;\n",
       "        }    #T_30cb85f8_d31c_11e9_8aa1_186590d84a75row9_col7 {\n",
       "            background-color:  #3d50c3;\n",
       "        }    #T_30cb85f8_d31c_11e9_8aa1_186590d84a75row9_col8 {\n",
       "            background-color:  #3e51c5;\n",
       "        }    #T_30cb85f8_d31c_11e9_8aa1_186590d84a75row9_col9 {\n",
       "            background-color:  #b40426;\n",
       "        }</style>  \n",
       "<table id=\"T_30cb85f8_d31c_11e9_8aa1_186590d84a75\" > \n",
       "<thead>    <tr> \n",
       "        <th class=\"blank level0\" ></th> \n",
       "        <th class=\"col_heading level0 col0\" >id</th> \n",
       "        <th class=\"col_heading level0 col1\" >atom_index_0</th> \n",
       "        <th class=\"col_heading level0 col2\" >atom_index_1</th> \n",
       "        <th class=\"col_heading level0 col3\" >scalar_coupling_constant</th> \n",
       "        <th class=\"col_heading level0 col4\" >x_0</th> \n",
       "        <th class=\"col_heading level0 col5\" >y_0</th> \n",
       "        <th class=\"col_heading level0 col6\" >z_0</th> \n",
       "        <th class=\"col_heading level0 col7\" >x_1</th> \n",
       "        <th class=\"col_heading level0 col8\" >y_1</th> \n",
       "        <th class=\"col_heading level0 col9\" >z_1</th> \n",
       "    </tr></thead> \n",
       "<tbody>    <tr> \n",
       "        <th id=\"T_30cb85f8_d31c_11e9_8aa1_186590d84a75level0_row0\" class=\"row_heading level0 row0\" >id</th> \n",
       "        <td id=\"T_30cb85f8_d31c_11e9_8aa1_186590d84a75row0_col0\" class=\"data row0 col0\" >1</td> \n",
       "        <td id=\"T_30cb85f8_d31c_11e9_8aa1_186590d84a75row0_col1\" class=\"data row0 col1\" >0.200476</td> \n",
       "        <td id=\"T_30cb85f8_d31c_11e9_8aa1_186590d84a75row0_col2\" class=\"data row0 col2\" >0.0560798</td> \n",
       "        <td id=\"T_30cb85f8_d31c_11e9_8aa1_186590d84a75row0_col3\" class=\"data row0 col3\" >0.0069681</td> \n",
       "        <td id=\"T_30cb85f8_d31c_11e9_8aa1_186590d84a75row0_col4\" class=\"data row0 col4\" >0.0635525</td> \n",
       "        <td id=\"T_30cb85f8_d31c_11e9_8aa1_186590d84a75row0_col5\" class=\"data row0 col5\" >0.184992</td> \n",
       "        <td id=\"T_30cb85f8_d31c_11e9_8aa1_186590d84a75row0_col6\" class=\"data row0 col6\" >0.028264</td> \n",
       "        <td id=\"T_30cb85f8_d31c_11e9_8aa1_186590d84a75row0_col7\" class=\"data row0 col7\" >0.0876292</td> \n",
       "        <td id=\"T_30cb85f8_d31c_11e9_8aa1_186590d84a75row0_col8\" class=\"data row0 col8\" >0.229034</td> \n",
       "        <td id=\"T_30cb85f8_d31c_11e9_8aa1_186590d84a75row0_col9\" class=\"data row0 col9\" >0.0302724</td> \n",
       "    </tr>    <tr> \n",
       "        <th id=\"T_30cb85f8_d31c_11e9_8aa1_186590d84a75level0_row1\" class=\"row_heading level0 row1\" >atom_index_0</th> \n",
       "        <td id=\"T_30cb85f8_d31c_11e9_8aa1_186590d84a75row1_col0\" class=\"data row1 col0\" >0.200476</td> \n",
       "        <td id=\"T_30cb85f8_d31c_11e9_8aa1_186590d84a75row1_col1\" class=\"data row1 col1\" >1</td> \n",
       "        <td id=\"T_30cb85f8_d31c_11e9_8aa1_186590d84a75row1_col2\" class=\"data row1 col2\" >0.14574</td> \n",
       "        <td id=\"T_30cb85f8_d31c_11e9_8aa1_186590d84a75row1_col3\" class=\"data row1 col3\" >0.0188393</td> \n",
       "        <td id=\"T_30cb85f8_d31c_11e9_8aa1_186590d84a75row1_col4\" class=\"data row1 col4\" >0.0208483</td> \n",
       "        <td id=\"T_30cb85f8_d31c_11e9_8aa1_186590d84a75row1_col5\" class=\"data row1 col5\" >0.521941</td> \n",
       "        <td id=\"T_30cb85f8_d31c_11e9_8aa1_186590d84a75row1_col6\" class=\"data row1 col6\" >0.0786142</td> \n",
       "        <td id=\"T_30cb85f8_d31c_11e9_8aa1_186590d84a75row1_col7\" class=\"data row1 col7\" >0.0306231</td> \n",
       "        <td id=\"T_30cb85f8_d31c_11e9_8aa1_186590d84a75row1_col8\" class=\"data row1 col8\" >0.36601</td> \n",
       "        <td id=\"T_30cb85f8_d31c_11e9_8aa1_186590d84a75row1_col9\" class=\"data row1 col9\" >0.0218152</td> \n",
       "    </tr>    <tr> \n",
       "        <th id=\"T_30cb85f8_d31c_11e9_8aa1_186590d84a75level0_row2\" class=\"row_heading level0 row2\" >atom_index_1</th> \n",
       "        <td id=\"T_30cb85f8_d31c_11e9_8aa1_186590d84a75row2_col0\" class=\"data row2 col0\" >0.0560798</td> \n",
       "        <td id=\"T_30cb85f8_d31c_11e9_8aa1_186590d84a75row2_col1\" class=\"data row2 col1\" >0.14574</td> \n",
       "        <td id=\"T_30cb85f8_d31c_11e9_8aa1_186590d84a75row2_col2\" class=\"data row2 col2\" >1</td> \n",
       "        <td id=\"T_30cb85f8_d31c_11e9_8aa1_186590d84a75row2_col3\" class=\"data row2 col3\" >0.218989</td> \n",
       "        <td id=\"T_30cb85f8_d31c_11e9_8aa1_186590d84a75row2_col4\" class=\"data row2 col4\" >0.00880881</td> \n",
       "        <td id=\"T_30cb85f8_d31c_11e9_8aa1_186590d84a75row2_col5\" class=\"data row2 col5\" >0.104602</td> \n",
       "        <td id=\"T_30cb85f8_d31c_11e9_8aa1_186590d84a75row2_col6\" class=\"data row2 col6\" >0.00591651</td> \n",
       "        <td id=\"T_30cb85f8_d31c_11e9_8aa1_186590d84a75row2_col7\" class=\"data row2 col7\" >0.000755068</td> \n",
       "        <td id=\"T_30cb85f8_d31c_11e9_8aa1_186590d84a75row2_col8\" class=\"data row2 col8\" >0.179888</td> \n",
       "        <td id=\"T_30cb85f8_d31c_11e9_8aa1_186590d84a75row2_col9\" class=\"data row2 col9\" >0.0564767</td> \n",
       "    </tr>    <tr> \n",
       "        <th id=\"T_30cb85f8_d31c_11e9_8aa1_186590d84a75level0_row3\" class=\"row_heading level0 row3\" >scalar_coupling_constant</th> \n",
       "        <td id=\"T_30cb85f8_d31c_11e9_8aa1_186590d84a75row3_col0\" class=\"data row3 col0\" >0.0069681</td> \n",
       "        <td id=\"T_30cb85f8_d31c_11e9_8aa1_186590d84a75row3_col1\" class=\"data row3 col1\" >0.0188393</td> \n",
       "        <td id=\"T_30cb85f8_d31c_11e9_8aa1_186590d84a75row3_col2\" class=\"data row3 col2\" >0.218989</td> \n",
       "        <td id=\"T_30cb85f8_d31c_11e9_8aa1_186590d84a75row3_col3\" class=\"data row3 col3\" >1</td> \n",
       "        <td id=\"T_30cb85f8_d31c_11e9_8aa1_186590d84a75row3_col4\" class=\"data row3 col4\" >0.00601535</td> \n",
       "        <td id=\"T_30cb85f8_d31c_11e9_8aa1_186590d84a75row3_col5\" class=\"data row3 col5\" >0.0131193</td> \n",
       "        <td id=\"T_30cb85f8_d31c_11e9_8aa1_186590d84a75row3_col6\" class=\"data row3 col6\" >0.00480695</td> \n",
       "        <td id=\"T_30cb85f8_d31c_11e9_8aa1_186590d84a75row3_col7\" class=\"data row3 col7\" >0.00513204</td> \n",
       "        <td id=\"T_30cb85f8_d31c_11e9_8aa1_186590d84a75row3_col8\" class=\"data row3 col8\" >0.0211891</td> \n",
       "        <td id=\"T_30cb85f8_d31c_11e9_8aa1_186590d84a75row3_col9\" class=\"data row3 col9\" >0.00779161</td> \n",
       "    </tr>    <tr> \n",
       "        <th id=\"T_30cb85f8_d31c_11e9_8aa1_186590d84a75level0_row4\" class=\"row_heading level0 row4\" >x_0</th> \n",
       "        <td id=\"T_30cb85f8_d31c_11e9_8aa1_186590d84a75row4_col0\" class=\"data row4 col0\" >0.0635525</td> \n",
       "        <td id=\"T_30cb85f8_d31c_11e9_8aa1_186590d84a75row4_col1\" class=\"data row4 col1\" >0.0208483</td> \n",
       "        <td id=\"T_30cb85f8_d31c_11e9_8aa1_186590d84a75row4_col2\" class=\"data row4 col2\" >0.00880881</td> \n",
       "        <td id=\"T_30cb85f8_d31c_11e9_8aa1_186590d84a75row4_col3\" class=\"data row4 col3\" >0.00601535</td> \n",
       "        <td id=\"T_30cb85f8_d31c_11e9_8aa1_186590d84a75row4_col4\" class=\"data row4 col4\" >1</td> \n",
       "        <td id=\"T_30cb85f8_d31c_11e9_8aa1_186590d84a75row4_col5\" class=\"data row4 col5\" >0.137042</td> \n",
       "        <td id=\"T_30cb85f8_d31c_11e9_8aa1_186590d84a75row4_col6\" class=\"data row4 col6\" >0.00959858</td> \n",
       "        <td id=\"T_30cb85f8_d31c_11e9_8aa1_186590d84a75row4_col7\" class=\"data row4 col7\" >0.637212</td> \n",
       "        <td id=\"T_30cb85f8_d31c_11e9_8aa1_186590d84a75row4_col8\" class=\"data row4 col8\" >0.1724</td> \n",
       "        <td id=\"T_30cb85f8_d31c_11e9_8aa1_186590d84a75row4_col9\" class=\"data row4 col9\" >0.022365</td> \n",
       "    </tr>    <tr> \n",
       "        <th id=\"T_30cb85f8_d31c_11e9_8aa1_186590d84a75level0_row5\" class=\"row_heading level0 row5\" >y_0</th> \n",
       "        <td id=\"T_30cb85f8_d31c_11e9_8aa1_186590d84a75row5_col0\" class=\"data row5 col0\" >0.184992</td> \n",
       "        <td id=\"T_30cb85f8_d31c_11e9_8aa1_186590d84a75row5_col1\" class=\"data row5 col1\" >0.521941</td> \n",
       "        <td id=\"T_30cb85f8_d31c_11e9_8aa1_186590d84a75row5_col2\" class=\"data row5 col2\" >0.104602</td> \n",
       "        <td id=\"T_30cb85f8_d31c_11e9_8aa1_186590d84a75row5_col3\" class=\"data row5 col3\" >0.0131193</td> \n",
       "        <td id=\"T_30cb85f8_d31c_11e9_8aa1_186590d84a75row5_col4\" class=\"data row5 col4\" >0.137042</td> \n",
       "        <td id=\"T_30cb85f8_d31c_11e9_8aa1_186590d84a75row5_col5\" class=\"data row5 col5\" >1</td> \n",
       "        <td id=\"T_30cb85f8_d31c_11e9_8aa1_186590d84a75row5_col6\" class=\"data row5 col6\" >0.0105141</td> \n",
       "        <td id=\"T_30cb85f8_d31c_11e9_8aa1_186590d84a75row5_col7\" class=\"data row5 col7\" >0.157436</td> \n",
       "        <td id=\"T_30cb85f8_d31c_11e9_8aa1_186590d84a75row5_col8\" class=\"data row5 col8\" >0.721484</td> \n",
       "        <td id=\"T_30cb85f8_d31c_11e9_8aa1_186590d84a75row5_col9\" class=\"data row5 col9\" >0.0189286</td> \n",
       "    </tr>    <tr> \n",
       "        <th id=\"T_30cb85f8_d31c_11e9_8aa1_186590d84a75level0_row6\" class=\"row_heading level0 row6\" >z_0</th> \n",
       "        <td id=\"T_30cb85f8_d31c_11e9_8aa1_186590d84a75row6_col0\" class=\"data row6 col0\" >0.028264</td> \n",
       "        <td id=\"T_30cb85f8_d31c_11e9_8aa1_186590d84a75row6_col1\" class=\"data row6 col1\" >0.0786142</td> \n",
       "        <td id=\"T_30cb85f8_d31c_11e9_8aa1_186590d84a75row6_col2\" class=\"data row6 col2\" >0.00591651</td> \n",
       "        <td id=\"T_30cb85f8_d31c_11e9_8aa1_186590d84a75row6_col3\" class=\"data row6 col3\" >0.00480695</td> \n",
       "        <td id=\"T_30cb85f8_d31c_11e9_8aa1_186590d84a75row6_col4\" class=\"data row6 col4\" >0.00959858</td> \n",
       "        <td id=\"T_30cb85f8_d31c_11e9_8aa1_186590d84a75row6_col5\" class=\"data row6 col5\" >0.0105141</td> \n",
       "        <td id=\"T_30cb85f8_d31c_11e9_8aa1_186590d84a75row6_col6\" class=\"data row6 col6\" >1</td> \n",
       "        <td id=\"T_30cb85f8_d31c_11e9_8aa1_186590d84a75row6_col7\" class=\"data row6 col7\" >0.00463211</td> \n",
       "        <td id=\"T_30cb85f8_d31c_11e9_8aa1_186590d84a75row6_col8\" class=\"data row6 col8\" >0.0166448</td> \n",
       "        <td id=\"T_30cb85f8_d31c_11e9_8aa1_186590d84a75row6_col9\" class=\"data row6 col9\" >0.540027</td> \n",
       "    </tr>    <tr> \n",
       "        <th id=\"T_30cb85f8_d31c_11e9_8aa1_186590d84a75level0_row7\" class=\"row_heading level0 row7\" >x_1</th> \n",
       "        <td id=\"T_30cb85f8_d31c_11e9_8aa1_186590d84a75row7_col0\" class=\"data row7 col0\" >0.0876292</td> \n",
       "        <td id=\"T_30cb85f8_d31c_11e9_8aa1_186590d84a75row7_col1\" class=\"data row7 col1\" >0.0306231</td> \n",
       "        <td id=\"T_30cb85f8_d31c_11e9_8aa1_186590d84a75row7_col2\" class=\"data row7 col2\" >0.000755068</td> \n",
       "        <td id=\"T_30cb85f8_d31c_11e9_8aa1_186590d84a75row7_col3\" class=\"data row7 col3\" >0.00513204</td> \n",
       "        <td id=\"T_30cb85f8_d31c_11e9_8aa1_186590d84a75row7_col4\" class=\"data row7 col4\" >0.637212</td> \n",
       "        <td id=\"T_30cb85f8_d31c_11e9_8aa1_186590d84a75row7_col5\" class=\"data row7 col5\" >0.157436</td> \n",
       "        <td id=\"T_30cb85f8_d31c_11e9_8aa1_186590d84a75row7_col6\" class=\"data row7 col6\" >0.00463211</td> \n",
       "        <td id=\"T_30cb85f8_d31c_11e9_8aa1_186590d84a75row7_col7\" class=\"data row7 col7\" >1</td> \n",
       "        <td id=\"T_30cb85f8_d31c_11e9_8aa1_186590d84a75row7_col8\" class=\"data row7 col8\" >0.193026</td> \n",
       "        <td id=\"T_30cb85f8_d31c_11e9_8aa1_186590d84a75row7_col9\" class=\"data row7 col9\" >0.0111054</td> \n",
       "    </tr>    <tr> \n",
       "        <th id=\"T_30cb85f8_d31c_11e9_8aa1_186590d84a75level0_row8\" class=\"row_heading level0 row8\" >y_1</th> \n",
       "        <td id=\"T_30cb85f8_d31c_11e9_8aa1_186590d84a75row8_col0\" class=\"data row8 col0\" >0.229034</td> \n",
       "        <td id=\"T_30cb85f8_d31c_11e9_8aa1_186590d84a75row8_col1\" class=\"data row8 col1\" >0.36601</td> \n",
       "        <td id=\"T_30cb85f8_d31c_11e9_8aa1_186590d84a75row8_col2\" class=\"data row8 col2\" >0.179888</td> \n",
       "        <td id=\"T_30cb85f8_d31c_11e9_8aa1_186590d84a75row8_col3\" class=\"data row8 col3\" >0.0211891</td> \n",
       "        <td id=\"T_30cb85f8_d31c_11e9_8aa1_186590d84a75row8_col4\" class=\"data row8 col4\" >0.1724</td> \n",
       "        <td id=\"T_30cb85f8_d31c_11e9_8aa1_186590d84a75row8_col5\" class=\"data row8 col5\" >0.721484</td> \n",
       "        <td id=\"T_30cb85f8_d31c_11e9_8aa1_186590d84a75row8_col6\" class=\"data row8 col6\" >0.0166448</td> \n",
       "        <td id=\"T_30cb85f8_d31c_11e9_8aa1_186590d84a75row8_col7\" class=\"data row8 col7\" >0.193026</td> \n",
       "        <td id=\"T_30cb85f8_d31c_11e9_8aa1_186590d84a75row8_col8\" class=\"data row8 col8\" >1</td> \n",
       "        <td id=\"T_30cb85f8_d31c_11e9_8aa1_186590d84a75row8_col9\" class=\"data row8 col9\" >0.0297956</td> \n",
       "    </tr>    <tr> \n",
       "        <th id=\"T_30cb85f8_d31c_11e9_8aa1_186590d84a75level0_row9\" class=\"row_heading level0 row9\" >z_1</th> \n",
       "        <td id=\"T_30cb85f8_d31c_11e9_8aa1_186590d84a75row9_col0\" class=\"data row9 col0\" >0.0302724</td> \n",
       "        <td id=\"T_30cb85f8_d31c_11e9_8aa1_186590d84a75row9_col1\" class=\"data row9 col1\" >0.0218152</td> \n",
       "        <td id=\"T_30cb85f8_d31c_11e9_8aa1_186590d84a75row9_col2\" class=\"data row9 col2\" >0.0564767</td> \n",
       "        <td id=\"T_30cb85f8_d31c_11e9_8aa1_186590d84a75row9_col3\" class=\"data row9 col3\" >0.00779161</td> \n",
       "        <td id=\"T_30cb85f8_d31c_11e9_8aa1_186590d84a75row9_col4\" class=\"data row9 col4\" >0.022365</td> \n",
       "        <td id=\"T_30cb85f8_d31c_11e9_8aa1_186590d84a75row9_col5\" class=\"data row9 col5\" >0.0189286</td> \n",
       "        <td id=\"T_30cb85f8_d31c_11e9_8aa1_186590d84a75row9_col6\" class=\"data row9 col6\" >0.540027</td> \n",
       "        <td id=\"T_30cb85f8_d31c_11e9_8aa1_186590d84a75row9_col7\" class=\"data row9 col7\" >0.0111054</td> \n",
       "        <td id=\"T_30cb85f8_d31c_11e9_8aa1_186590d84a75row9_col8\" class=\"data row9 col8\" >0.0297956</td> \n",
       "        <td id=\"T_30cb85f8_d31c_11e9_8aa1_186590d84a75row9_col9\" class=\"data row9 col9\" >1</td> \n",
       "    </tr></tbody> \n",
       "</table> "
      ],
      "text/plain": [
       "<pandas.io.formats.style.Styler at 0x124eaae48>"
      ]
     },
     "execution_count": 12,
     "metadata": {},
     "output_type": "execute_result"
    },
    {
     "data": {
      "text/plain": [
       "<Figure size 7200x7200 with 0 Axes>"
      ]
     },
     "metadata": {},
     "output_type": "display_data"
    }
   ],
   "source": [
    "%matplotlib inline\n",
    "f = plt.figure(figsize=(100, 100))\n",
    "corr_matrix.style.background_gradient(cmap='coolwarm')"
   ]
  },
  {
   "cell_type": "code",
   "execution_count": null,
   "metadata": {},
   "outputs": [],
   "source": [
    "# select columns with correlations above threshold\n",
    "threshold = 0.97\n",
    "to_drop = [column for column in upper.columns if any(upper[column] > threshold)]\n",
    "to_drop"
   ]
  },
  {
   "cell_type": "code",
   "execution_count": null,
   "metadata": {},
   "outputs": [],
   "source": [
    "df_train = df_train.drop(to_drop, axis=1)\n",
    "df_test = df_test.drop(to_drop, axis=1)"
   ]
  },
  {
   "cell_type": "code",
   "execution_count": null,
   "metadata": {},
   "outputs": [],
   "source": [
    "df_train.head()"
   ]
  },
  {
   "cell_type": "code",
   "execution_count": null,
   "metadata": {},
   "outputs": [],
   "source": [
    "np.array(df_train.columns)"
   ]
  },
  {
   "cell_type": "markdown",
   "metadata": {},
   "source": [
    "# Preprocessing"
   ]
  },
  {
   "cell_type": "code",
   "execution_count": null,
   "metadata": {},
   "outputs": [],
   "source": [
    "def preprocess(df):\n",
    "    df = pd.DataFrame()\n",
    "    for column in good_columns:\n",
    "        if column not in to_drop:\n",
    "            df[column] = df_train[column]\n",
    "    df = df.fillna(0)\n",
    "    return df"
   ]
  },
  {
   "cell_type": "code",
   "execution_count": null,
   "metadata": {},
   "outputs": [],
   "source": [
    "df_train = preprocess(df_train)\n",
    "df_test = preprocess(df_test)\n",
    "df_test.head()"
   ]
  },
  {
   "cell_type": "markdown",
   "metadata": {},
   "source": [
    "# Modeling"
   ]
  },
  {
   "cell_type": "code",
   "execution_count": null,
   "metadata": {},
   "outputs": [],
   "source": [
    "param = {'boosting': 'gbdt', 'colsample_bytree': 1, \n",
    "          'learning_rate': 0.1, 'max_depth': 40, 'metric': 'mae',\n",
    "          'min_child_samples': 50, 'num_leaves': 500, \n",
    "          'objective': 'regression', 'reg_alpha': 0.5, \n",
    "          'reg_lambda': 0.8, 'subsample': 0.5 }\n",
    "\n",
    "param_2 = {'num_leaves': 128, 'min_child_samples': 79, 'objective': 'regression',\n",
    "          'max_depth': 9, 'learning_rate': 0.25,\n",
    "          \"boosting_type\": \"gbdt\", \"subsample_frr0eq\": 1, \"subsample\": 0.9,\n",
    "          \"bagging_seed\": 11, \"metric\": 'mae', \"verbosity\": -1, \n",
    "          'reg_alpha': 0.1, 'reg_lambda': 0.3, 'colsample_bytree': 1.0 }"
   ]
  },
  {
   "cell_type": "markdown",
   "metadata": {},
   "source": [
    "## Single Model"
   ]
  },
  {
   "cell_type": "code",
   "execution_count": null,
   "metadata": {},
   "outputs": [],
   "source": [
    "def group_mean_log_mae(y_true, y):\n",
    "    gmlmae = 0\n",
    "    train_sample_size = int(df_train.shape[0]*0.7)\n",
    "    for c_type in pd.unique(df_train[train_sample_size:]['type']):\n",
    "        n_t = df_train[train_sample_size:].loc[df_train[train_sample_size:]['type'] == c_type].shape[0]\n",
    "        y_true_t = y_true[df_train[train_sample_size:]['type'] == c_type]\n",
    "        y_t = y[df_train[train_sample_size:]['type'] == c_type]\n",
    "        mean_abs_err = np.sum(abs(y_true_t - y_t))/n_t\n",
    "        lmae = np.log(mean_abs_err)\n",
    "        gmlmae += lmae\n",
    "    return gmlmae/df_train[train_sample_size:]['type'].nunique()"
   ]
  },
  {
   "cell_type": "code",
   "execution_count": null,
   "metadata": {},
   "outputs": [],
   "source": [
    "train_sample_size = int(df_train.shape[0]*0.7)\n",
    "df_train_x = df_train[:train_sample_size].drop('scalar_coupling_constant', axis=1)\n",
    "df_train_y = df_train[:train_sample_size][['scalar_coupling_constant']]\n",
    "\n",
    "df_val_x = df_train[train_sample_size:].drop('scalar_coupling_constant', axis=1)\n",
    "df_val_y = df_train[train_sample_size:][['scalar_coupling_constant']]\n",
    "\n",
    "lgtrain = lgb.Dataset(df_train_x, label=df_train_y)\n",
    "lgval = lgb.Dataset(df_val_x, label=df_val_y)\n",
    "model_lgb = lgb.train(param, lgtrain, 5000, \n",
    "                      valid_sets=[lgtrain, lgval], early_stopping_rounds=250, \n",
    "                      verbose_eval=500)\n",
    "        \n",
    "#model_lgb = lgb.LGBMRegressor(**param, n_estimators = 3000, n_jobs = -1)\n",
    "#model_lgb.fit(df_train_x, df_train_y, \n",
    "              #eval_set=[(df_train_x, df_train_y), (df_val_x, df_val_y)], eval_metric='mae',\n",
    "              #verbose=500, early_stopping_rounds=200)"
   ]
  },
  {
   "cell_type": "code",
   "execution_count": null,
   "metadata": {},
   "outputs": [],
   "source": [
    "prediction = model_lgb.predict(df_val_x)\n",
    "group_mean_log_mae(np.array(df_val_y).flatten(), prediction)"
   ]
  },
  {
   "cell_type": "markdown",
   "metadata": {},
   "source": [
    "## Types Seperately "
   ]
  },
  {
   "cell_type": "code",
   "execution_count": null,
   "metadata": {},
   "outputs": [],
   "source": [
    "def group_mean_log_mae_t(y_true, y):\n",
    "    n_t = y_true.shape[0]\n",
    "    mean_abs_err = np.sum(abs(y_true - y))/n_t\n",
    "    return np.log(mean_abs_err)"
   ]
  },
  {
   "cell_type": "code",
   "execution_count": null,
   "metadata": {},
   "outputs": [],
   "source": [
    "for i, c_type in enumerate(pd.unique(df_train['type'])):\n",
    "    df_train_x = df_train.loc[df_train['type'] == c_type].drop('scalar_coupling_constant', axis=1)\n",
    "    df_train_y = df_train.loc[df_train['type'] == c_type][['scalar_coupling_constant']]\n",
    "\n",
    "    train_sample_size = int(df_train_x.shape[0]*0.7)\n",
    "\n",
    "    lgtrain = lgb.Dataset(df_train_x[:train_sample_size], label=df_train_y[:train_sample_size])\n",
    "    lgval = lgb.Dataset(df_train_x[train_sample_size:], label=df_train_y[train_sample_size:])\n",
    "    print(f'type:{c_type}')\n",
    "    model_lgb = lgb.train(param, lgtrain, 5000, \n",
    "                      valid_sets=[lgtrain, lgval], early_stopping_rounds=250, \n",
    "                      verbose_eval=500)\n",
    "    prediction = model_lgb.predict(df_train_x[train_sample_size:])\n",
    "    print(f\"group_mean_log_mae:{group_mean_log_mae_t(np.array(df_train_y[train_sample_size:]).flatten(), prediction)}\\n\")"
   ]
  },
  {
   "cell_type": "markdown",
   "metadata": {},
   "source": [
    "# Submission"
   ]
  },
  {
   "cell_type": "code",
   "execution_count": null,
   "metadata": {},
   "outputs": [],
   "source": [
    "submission = pd.read_csv('champs-scalar-coupling/sample_submission.csv')"
   ]
  },
  {
   "cell_type": "code",
   "execution_count": null,
   "metadata": {},
   "outputs": [],
   "source": [
    "for i, c_type in enumerate(pd.unique(df_train['type'])):\n",
    "    df_train_x = df_train.loc[df_train['type'] == c_type].drop('scalar_coupling_constant', axis=1)\n",
    "    df_train_y = df_train.loc[df_train['type'] == c_type][['scalar_coupling_constant']]\n",
    "\n",
    "    df_test_x = df_test.loc[df_test['type'] == c_type]\n",
    "\n",
    "    train_sample_size = int(df_train_x.shape[0]*0.9)\n",
    "\n",
    "    lgtrain = lgb.Dataset(df_train_x[:train_sample_size], label=df_train_y[:train_sample_size])\n",
    "    lgval = lgb.Dataset(df_train_x[train_sample_size:], label=df_train_y[train_sample_size:])\n",
    "    print(f'type:{c_type}')\n",
    "    model_lgb = lgb.train(param, lgtrain, 5000, \n",
    "                      valid_sets=[lgtrain, lgval], early_stopping_rounds=250, \n",
    "                      verbose_eval=500)\n",
    "\n",
    "    prediction = model_lgb.predict(df_test_x)\n",
    "\n",
    "    df = pd.DataFrame()\n",
    "    df['id'] = submission.loc[df_test['type'] == c_type]['id']\n",
    "    df['scalar_coupling_constant'] = prediction\n",
    "    submission.loc[df_test['type'] == c_type] = df"
   ]
  },
  {
   "cell_type": "code",
   "execution_count": null,
   "metadata": {},
   "outputs": [],
   "source": [
    "# sanity check\n",
    "best_submission = pd.read_csv('best_submission.csv')\n",
    "mean_absolute_error(np.array(best_submission['scalar_coupling_constant']).flatten(), submission['scalar_coupling_constant'])"
   ]
  },
  {
   "cell_type": "code",
   "execution_count": null,
   "metadata": {},
   "outputs": [],
   "source": [
    "submission.to_csv('submission.csv', index=False)"
   ]
  },
  {
   "cell_type": "code",
   "execution_count": null,
   "metadata": {},
   "outputs": [],
   "source": []
  }
 ],
 "metadata": {
  "celltoolbar": "Raw Cell Format",
  "kernelspec": {
   "display_name": "Python3 (tensorflow)",
   "language": "python",
   "name": "tensorflow"
  },
  "language_info": {
   "codemirror_mode": {
    "name": "ipython",
    "version": 3
   },
   "file_extension": ".py",
   "mimetype": "text/x-python",
   "name": "python",
   "nbconvert_exporter": "python",
   "pygments_lexer": "ipython3",
   "version": "3.6.3"
  }
 },
 "nbformat": 4,
 "nbformat_minor": 2
}
